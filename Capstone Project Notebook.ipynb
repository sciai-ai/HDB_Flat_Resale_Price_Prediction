{
 "cells": [
  {
   "cell_type": "markdown",
   "metadata": {
    "collapsed": true
   },
   "source": [
    "# Sale Price Prediction and Segmentation of HDB Resale Flat in Singapore"
   ]
  },
  {
   "cell_type": "markdown",
   "metadata": {},
   "source": [
    "### By Lee Gang"
   ]
  },
  {
   "cell_type": "markdown",
   "metadata": {},
   "source": [
    "## Table of Contents"
   ]
  },
  {
   "cell_type": "markdown",
   "metadata": {
    "scrolled": true
   },
   "source": [
    "## Data Gathering And Processing"
   ]
  },
  {
   "cell_type": "markdown",
   "metadata": {},
   "source": [
    "Import Required Libraries"
   ]
  },
  {
   "cell_type": "code",
   "execution_count": 1,
   "metadata": {},
   "outputs": [],
   "source": [
    "import numpy as np\n",
    "import pandas as pd\n",
    "import json\n",
    "import requests\n",
    "import re\n",
    "import os\n",
    "from datetime import datetime as dt\n",
    "from pandas.io.json import json_normalize\n",
    "import geocoder\n",
    "import matplotlib.pylab as plt\n",
    "import seaborn as sns\n",
    "%matplotlib inline"
   ]
  },
  {
   "cell_type": "markdown",
   "metadata": {},
   "source": [
    "### Get HDB Resale Data from Data.gov.sg"
   ]
  },
  {
   "cell_type": "code",
   "execution_count": 2,
   "metadata": {},
   "outputs": [
    {
     "data": {
      "text/html": [
       "<div>\n",
       "<style scoped>\n",
       "    .dataframe tbody tr th:only-of-type {\n",
       "        vertical-align: middle;\n",
       "    }\n",
       "\n",
       "    .dataframe tbody tr th {\n",
       "        vertical-align: top;\n",
       "    }\n",
       "\n",
       "    .dataframe thead th {\n",
       "        text-align: right;\n",
       "    }\n",
       "</style>\n",
       "<table border=\"1\" class=\"dataframe\">\n",
       "  <thead>\n",
       "    <tr style=\"text-align: right;\">\n",
       "      <th></th>\n",
       "      <th>town</th>\n",
       "      <th>flat_type</th>\n",
       "      <th>flat_model</th>\n",
       "      <th>floor_area_sqm</th>\n",
       "      <th>street_name</th>\n",
       "      <th>resale_price</th>\n",
       "      <th>month</th>\n",
       "      <th>remaining_lease</th>\n",
       "      <th>lease_commence_date</th>\n",
       "      <th>storey_range</th>\n",
       "      <th>_id</th>\n",
       "      <th>block</th>\n",
       "    </tr>\n",
       "  </thead>\n",
       "  <tbody>\n",
       "    <tr>\n",
       "      <th>0</th>\n",
       "      <td>JURONG EAST</td>\n",
       "      <td>3 ROOM</td>\n",
       "      <td>New Generation</td>\n",
       "      <td>67</td>\n",
       "      <td>JURONG EAST ST 21</td>\n",
       "      <td>270000</td>\n",
       "      <td>2018-07</td>\n",
       "      <td>63 years 08 months</td>\n",
       "      <td>1983</td>\n",
       "      <td>10 TO 12</td>\n",
       "      <td>1</td>\n",
       "      <td>214</td>\n",
       "    </tr>\n",
       "    <tr>\n",
       "      <th>1</th>\n",
       "      <td>JURONG EAST</td>\n",
       "      <td>3 ROOM</td>\n",
       "      <td>New Generation</td>\n",
       "      <td>67</td>\n",
       "      <td>JURONG EAST ST 21</td>\n",
       "      <td>248000</td>\n",
       "      <td>2018-07</td>\n",
       "      <td>63 years 09 months</td>\n",
       "      <td>1983</td>\n",
       "      <td>01 TO 03</td>\n",
       "      <td>2</td>\n",
       "      <td>211</td>\n",
       "    </tr>\n",
       "    <tr>\n",
       "      <th>2</th>\n",
       "      <td>JURONG EAST</td>\n",
       "      <td>3 ROOM</td>\n",
       "      <td>New Generation</td>\n",
       "      <td>84</td>\n",
       "      <td>JURONG EAST ST 24</td>\n",
       "      <td>318000</td>\n",
       "      <td>2018-07</td>\n",
       "      <td>63 years 07 months</td>\n",
       "      <td>1983</td>\n",
       "      <td>07 TO 09</td>\n",
       "      <td>3</td>\n",
       "      <td>241</td>\n",
       "    </tr>\n",
       "    <tr>\n",
       "      <th>3</th>\n",
       "      <td>JURONG EAST</td>\n",
       "      <td>3 ROOM</td>\n",
       "      <td>New Generation</td>\n",
       "      <td>67</td>\n",
       "      <td>JURONG EAST ST 24</td>\n",
       "      <td>305000</td>\n",
       "      <td>2018-07</td>\n",
       "      <td>66 years 11 months</td>\n",
       "      <td>1986</td>\n",
       "      <td>04 TO 06</td>\n",
       "      <td>4</td>\n",
       "      <td>250</td>\n",
       "    </tr>\n",
       "    <tr>\n",
       "      <th>4</th>\n",
       "      <td>JURONG EAST</td>\n",
       "      <td>3 ROOM</td>\n",
       "      <td>New Generation</td>\n",
       "      <td>67</td>\n",
       "      <td>JURONG EAST ST 24</td>\n",
       "      <td>258000</td>\n",
       "      <td>2018-07</td>\n",
       "      <td>65 years 11 months</td>\n",
       "      <td>1985</td>\n",
       "      <td>01 TO 03</td>\n",
       "      <td>5</td>\n",
       "      <td>252</td>\n",
       "    </tr>\n",
       "  </tbody>\n",
       "</table>\n",
       "</div>"
      ],
      "text/plain": [
       "          town flat_type      flat_model floor_area_sqm        street_name  \\\n",
       "0  JURONG EAST    3 ROOM  New Generation             67  JURONG EAST ST 21   \n",
       "1  JURONG EAST    3 ROOM  New Generation             67  JURONG EAST ST 21   \n",
       "2  JURONG EAST    3 ROOM  New Generation             84  JURONG EAST ST 24   \n",
       "3  JURONG EAST    3 ROOM  New Generation             67  JURONG EAST ST 24   \n",
       "4  JURONG EAST    3 ROOM  New Generation             67  JURONG EAST ST 24   \n",
       "\n",
       "  resale_price    month     remaining_lease lease_commence_date storey_range  \\\n",
       "0       270000  2018-07  63 years 08 months                1983     10 TO 12   \n",
       "1       248000  2018-07  63 years 09 months                1983     01 TO 03   \n",
       "2       318000  2018-07  63 years 07 months                1983     07 TO 09   \n",
       "3       305000  2018-07  66 years 11 months                1986     04 TO 06   \n",
       "4       258000  2018-07  65 years 11 months                1985     01 TO 03   \n",
       "\n",
       "   _id block  \n",
       "0    1   214  \n",
       "1    2   211  \n",
       "2    3   241  \n",
       "3    4   250  \n",
       "4    5   252  "
      ]
     },
     "execution_count": 2,
     "metadata": {},
     "output_type": "execute_result"
    }
   ],
   "source": [
    "# Get total number of records\n",
    "url_len = 'https://data.gov.sg/api/action/datastore_search?resource_id=42ff9cfe-abe5-4b54-beda-c88f9bb438ee&limit=1'\n",
    "max_records = requests.get(url_len).json()['result']['total']\n",
    "\n",
    "# Extract all records from API\n",
    "url = 'https://data.gov.sg/api/action/datastore_search?resource_id=42ff9cfe-abe5-4b54-beda-c88f9bb438ee&limit={}'.format(max_records)\n",
    "results = requests.get(url).json()['result']['records']\n",
    "df_hdb = pd.DataFrame(results)\n",
    "df_hdb.head()\n"
   ]
  },
  {
   "cell_type": "code",
   "execution_count": 5,
   "metadata": {},
   "outputs": [],
   "source": [
    "#df_hdb.to_csv(\"dat_hdb.csv\", index = False)"
   ]
  },
  {
   "cell_type": "markdown",
   "metadata": {},
   "source": [
    "### Clean and Process HDB Dataframe"
   ]
  },
  {
   "cell_type": "code",
   "execution_count": 6,
   "metadata": {},
   "outputs": [
    {
     "data": {
      "text/html": [
       "<div>\n",
       "<style scoped>\n",
       "    .dataframe tbody tr th:only-of-type {\n",
       "        vertical-align: middle;\n",
       "    }\n",
       "\n",
       "    .dataframe tbody tr th {\n",
       "        vertical-align: top;\n",
       "    }\n",
       "\n",
       "    .dataframe thead th {\n",
       "        text-align: right;\n",
       "    }\n",
       "</style>\n",
       "<table border=\"1\" class=\"dataframe\">\n",
       "  <thead>\n",
       "    <tr style=\"text-align: right;\">\n",
       "      <th></th>\n",
       "      <th>town</th>\n",
       "      <th>flat_type</th>\n",
       "      <th>flat_model</th>\n",
       "      <th>floor_area_sqm</th>\n",
       "      <th>street_name</th>\n",
       "      <th>resale_price</th>\n",
       "      <th>month</th>\n",
       "      <th>remaining_lease</th>\n",
       "      <th>lease_commence_date</th>\n",
       "      <th>storey_range</th>\n",
       "      <th>id</th>\n",
       "      <th>block</th>\n",
       "      <th>year</th>\n",
       "      <th>price_sqm</th>\n",
       "    </tr>\n",
       "  </thead>\n",
       "  <tbody>\n",
       "    <tr>\n",
       "      <th>0</th>\n",
       "      <td>JURONG EAST</td>\n",
       "      <td>3 ROOM</td>\n",
       "      <td>New Generation</td>\n",
       "      <td>67.0</td>\n",
       "      <td>JURONG EAST ST 21</td>\n",
       "      <td>270000.0</td>\n",
       "      <td>7.0</td>\n",
       "      <td>63.666667</td>\n",
       "      <td>1983</td>\n",
       "      <td>10 TO 12</td>\n",
       "      <td>1</td>\n",
       "      <td>214</td>\n",
       "      <td>2018</td>\n",
       "      <td>4029.850746</td>\n",
       "    </tr>\n",
       "    <tr>\n",
       "      <th>1</th>\n",
       "      <td>JURONG EAST</td>\n",
       "      <td>3 ROOM</td>\n",
       "      <td>New Generation</td>\n",
       "      <td>67.0</td>\n",
       "      <td>JURONG EAST ST 21</td>\n",
       "      <td>248000.0</td>\n",
       "      <td>7.0</td>\n",
       "      <td>63.750000</td>\n",
       "      <td>1983</td>\n",
       "      <td>01 TO 03</td>\n",
       "      <td>2</td>\n",
       "      <td>211</td>\n",
       "      <td>2018</td>\n",
       "      <td>3701.492537</td>\n",
       "    </tr>\n",
       "    <tr>\n",
       "      <th>2</th>\n",
       "      <td>JURONG EAST</td>\n",
       "      <td>3 ROOM</td>\n",
       "      <td>New Generation</td>\n",
       "      <td>84.0</td>\n",
       "      <td>JURONG EAST ST 24</td>\n",
       "      <td>318000.0</td>\n",
       "      <td>7.0</td>\n",
       "      <td>63.583333</td>\n",
       "      <td>1983</td>\n",
       "      <td>07 TO 09</td>\n",
       "      <td>3</td>\n",
       "      <td>241</td>\n",
       "      <td>2018</td>\n",
       "      <td>3785.714286</td>\n",
       "    </tr>\n",
       "    <tr>\n",
       "      <th>3</th>\n",
       "      <td>JURONG EAST</td>\n",
       "      <td>3 ROOM</td>\n",
       "      <td>New Generation</td>\n",
       "      <td>67.0</td>\n",
       "      <td>JURONG EAST ST 24</td>\n",
       "      <td>305000.0</td>\n",
       "      <td>7.0</td>\n",
       "      <td>66.916667</td>\n",
       "      <td>1986</td>\n",
       "      <td>04 TO 06</td>\n",
       "      <td>4</td>\n",
       "      <td>250</td>\n",
       "      <td>2018</td>\n",
       "      <td>4552.238806</td>\n",
       "    </tr>\n",
       "    <tr>\n",
       "      <th>4</th>\n",
       "      <td>JURONG EAST</td>\n",
       "      <td>3 ROOM</td>\n",
       "      <td>New Generation</td>\n",
       "      <td>67.0</td>\n",
       "      <td>JURONG EAST ST 24</td>\n",
       "      <td>258000.0</td>\n",
       "      <td>7.0</td>\n",
       "      <td>65.916667</td>\n",
       "      <td>1985</td>\n",
       "      <td>01 TO 03</td>\n",
       "      <td>5</td>\n",
       "      <td>252</td>\n",
       "      <td>2018</td>\n",
       "      <td>3850.746269</td>\n",
       "    </tr>\n",
       "  </tbody>\n",
       "</table>\n",
       "</div>"
      ],
      "text/plain": [
       "          town flat_type      flat_model  floor_area_sqm        street_name  \\\n",
       "0  JURONG EAST    3 ROOM  New Generation            67.0  JURONG EAST ST 21   \n",
       "1  JURONG EAST    3 ROOM  New Generation            67.0  JURONG EAST ST 21   \n",
       "2  JURONG EAST    3 ROOM  New Generation            84.0  JURONG EAST ST 24   \n",
       "3  JURONG EAST    3 ROOM  New Generation            67.0  JURONG EAST ST 24   \n",
       "4  JURONG EAST    3 ROOM  New Generation            67.0  JURONG EAST ST 24   \n",
       "\n",
       "   resale_price  month  remaining_lease  lease_commence_date storey_range  id  \\\n",
       "0      270000.0    7.0        63.666667                 1983     10 TO 12   1   \n",
       "1      248000.0    7.0        63.750000                 1983     01 TO 03   2   \n",
       "2      318000.0    7.0        63.583333                 1983     07 TO 09   3   \n",
       "3      305000.0    7.0        66.916667                 1986     04 TO 06   4   \n",
       "4      258000.0    7.0        65.916667                 1985     01 TO 03   5   \n",
       "\n",
       "  block  year    price_sqm  \n",
       "0   214  2018  4029.850746  \n",
       "1   211  2018  3701.492537  \n",
       "2   241  2018  3785.714286  \n",
       "3   250  2018  4552.238806  \n",
       "4   252  2018  3850.746269  "
      ]
     },
     "execution_count": 6,
     "metadata": {},
     "output_type": "execute_result"
    }
   ],
   "source": [
    "# Format column names\n",
    "df_hdb.rename(columns = {'_id':'id'}, inplace = True)\n",
    "\n",
    "# Format columns 'floor_area_sqm' and 'resale_price' to float\n",
    "df_hdb[['floor_area_sqm', 'resale_price']] = df_hdb[['floor_area_sqm', 'resale_price']].astype(float)\n",
    "\n",
    "# Split column 'month' to 'year' and 'month'\n",
    "df_hdb['year'] = df_hdb['month'].str[0:4].astype(float)\n",
    "df_hdb['month'] = df_hdb['month'].str[5:7].astype(float)\n",
    "\n",
    "# Format column 'year' and 'lease_commencement_date' to integer\n",
    "df_hdb[['year', 'lease_commence_date']] = df_hdb[['year', 'lease_commence_date']].astype(int)\n",
    "\n",
    "# Convert 'remaining lease' into float\n",
    "df_hdb['remaining_years'] = df_hdb['remaining_lease'].str[:2].astype(int)\n",
    "df_hdb['remaining_months'] = df_hdb['remaining_lease'].str[9:11].apply(lambda x: pd.to_numeric(x, errors = 'coerce'))\n",
    "df_hdb.loc[df_hdb['remaining_months'].isna(), 'remaining_months'] = 0\n",
    "df_hdb['remaining_lease'] = df_hdb['remaining_years'] + (df_hdb['remaining_months']/12)\n",
    "\n",
    "# Derive 'price_sqm' \n",
    "df_hdb['price_sqm'] = df_hdb['resale_price']/df_hdb['floor_area_sqm']\n",
    "\n",
    "# Drop extra columns\n",
    "df_hdb.drop(['remaining_years', 'remaining_months'], axis = 1, inplace = True)\n",
    "\n",
    "df_hdb.head()"
   ]
  },
  {
   "cell_type": "markdown",
   "metadata": {},
   "source": [
    "### Map and Process Street Name for Geocoding Purposes"
   ]
  },
  {
   "cell_type": "code",
   "execution_count": 19,
   "metadata": {},
   "outputs": [],
   "source": [
    "# Format \"street_name\" column for geocoding purposes\n",
    "df_hdb['street_name'] = df_hdb['street_name'].str.replace('UPP ', 'UPPER ', regex = True)\n",
    "df_hdb['street_name'] = df_hdb['street_name'].str.replace(' CTRL', ' CENTRAL', regex = True)\n",
    "df_hdb['street_name'] = df_hdb['street_name'].str.replace('JLN ', 'JALAN ', regex = True)\n",
    "df_hdb['street_name'] = df_hdb['street_name'].str.replace('BT ', 'BUKIT ', regex = True)\n",
    "df_hdb['street_name'] = df_hdb['street_name'].str.replace('LOR ', 'LORONG ', regex = True)\n",
    "df_hdb['street_name'] = df_hdb['street_name'].str.replace(' NTH', ' NORTH', regex = True)\n",
    "df_hdb['street_name'] = df_hdb['street_name'].str.replace('KG', 'KAMPONG', regex = True)\n",
    "df_hdb['street_name'] = df_hdb['street_name'].str.replace(' DR', ' DRIVE', regex = True)\n",
    "df_hdb['street_name'] = df_hdb['street_name'].str.replace('TG PAGAR', 'TANJONG PAGAR', regex = True)\n",
    "df_hdb['street_name'] = df_hdb['street_name'].str.replace(\"C'WEALTH\", 'COMMONWEALTH', regex = True)\n",
    "df_hdb['street_name'] = df_hdb['street_name'].str.replace(\"WOODLANDS DRIVE 75\", 'WOODLAND DRIVE 75', regex = True)\n",
    "df_hdb['street_name'] = df_hdb['street_name'].str.replace(\"TAMAN HO SWEE\", 'JALAN BUKIT HO SWEE', regex = True)\n",
    "df_hdb['street_name'] = df_hdb['street_name'].str.replace(\"YUNG PING RD\", '157 CORPORATION DRIVE', regex = True)\n",
    "df_hdb['street_name'] = df_hdb['street_name'].str.replace(\"YUNG LOH RD\", '157 CORPORATION DRIVE', regex = True)"
   ]
  },
  {
   "cell_type": "markdown",
   "metadata": {},
   "source": [
    "### Extract Coordinates via Nominatim Geocoding"
   ]
  },
  {
   "cell_type": "markdown",
   "metadata": {},
   "source": [
    "**(Do Not Run: Results Have Been Saved in csv File For Easy Retrieval. Codes for First Time Execution Only. Long Processing Time)**"
   ]
  },
  {
   "cell_type": "code",
   "execution_count": 90,
   "metadata": {},
   "outputs": [],
   "source": [
    "df_coord = pd.DataFrame(df_hdb['street_name'].unique())\n",
    "df_coord.columns = ['street_name']\n",
    "length = len(df_coord['street_name'])"
   ]
  },
  {
   "cell_type": "code",
   "execution_count": 91,
   "metadata": {},
   "outputs": [
    {
     "name": "stderr",
     "output_type": "stream",
     "text": [
      "Status code Unknown from https://nominatim.openstreetmap.org/search: ERROR - HTTPSConnectionPool(host='nominatim.openstreetmap.org', port=443): Read timed out. (read timeout=5.0)\n"
     ]
    }
   ],
   "source": [
    "latitude = np.zeros(length)\n",
    "longitude = np.zeros(length)\n",
    "address = df_coord['street_name']\n",
    "\n",
    "for n in range(0,len(address)):\n",
    "    geo = geocoder.osm(address[n] + ', SG')\n",
    "    if geo.x is None:\n",
    "        latitude[n] = 0\n",
    "        longitude[n] = 0\n",
    "    else:\n",
    "        latitude[n] = geo.y\n",
    "        longitude[n] = geo.x\n"
   ]
  },
  {
   "cell_type": "code",
   "execution_count": 20,
   "metadata": {},
   "outputs": [
    {
     "ename": "NameError",
     "evalue": "name 'latitude' is not defined",
     "output_type": "error",
     "traceback": [
      "\u001b[1;31m---------------------------------------------------------------------------\u001b[0m",
      "\u001b[1;31mNameError\u001b[0m                                 Traceback (most recent call last)",
      "\u001b[1;32m<ipython-input-20-0da7a6a0649c>\u001b[0m in \u001b[0;36m<module>\u001b[1;34m\u001b[0m\n\u001b[1;32m----> 1\u001b[1;33m \u001b[0mdf_coord\u001b[0m\u001b[1;33m[\u001b[0m\u001b[1;34m'Latitude'\u001b[0m\u001b[1;33m]\u001b[0m \u001b[1;33m=\u001b[0m \u001b[0mlatitude\u001b[0m\u001b[1;33m\u001b[0m\u001b[1;33m\u001b[0m\u001b[0m\n\u001b[0m\u001b[0;32m      2\u001b[0m \u001b[0mdf_coord\u001b[0m\u001b[1;33m[\u001b[0m\u001b[1;34m'Longitude'\u001b[0m\u001b[1;33m]\u001b[0m \u001b[1;33m=\u001b[0m \u001b[0mlongitude\u001b[0m\u001b[1;33m\u001b[0m\u001b[1;33m\u001b[0m\u001b[0m\n\u001b[0;32m      3\u001b[0m \u001b[0mdf_coord\u001b[0m\u001b[1;33m.\u001b[0m\u001b[0mloc\u001b[0m\u001b[1;33m[\u001b[0m\u001b[0mdf_coord\u001b[0m\u001b[1;33m[\u001b[0m\u001b[1;34m'Latitude'\u001b[0m\u001b[1;33m]\u001b[0m\u001b[1;33m.\u001b[0m\u001b[0misna\u001b[0m\u001b[1;33m(\u001b[0m\u001b[1;33m)\u001b[0m\u001b[1;33m,\u001b[0m \u001b[1;34m'Latitude'\u001b[0m\u001b[1;33m]\u001b[0m \u001b[1;33m=\u001b[0m \u001b[1;36m0\u001b[0m\u001b[1;33m\u001b[0m\u001b[1;33m\u001b[0m\u001b[0m\n\u001b[0;32m      4\u001b[0m \u001b[0mdf_coord\u001b[0m\u001b[1;33m.\u001b[0m\u001b[0mloc\u001b[0m\u001b[1;33m[\u001b[0m\u001b[0mdf_coord\u001b[0m\u001b[1;33m[\u001b[0m\u001b[1;34m'Longitude'\u001b[0m\u001b[1;33m]\u001b[0m\u001b[1;33m.\u001b[0m\u001b[0misna\u001b[0m\u001b[1;33m(\u001b[0m\u001b[1;33m)\u001b[0m\u001b[1;33m,\u001b[0m \u001b[1;34m'Longitude'\u001b[0m\u001b[1;33m]\u001b[0m \u001b[1;33m=\u001b[0m \u001b[1;36m0\u001b[0m\u001b[1;33m\u001b[0m\u001b[1;33m\u001b[0m\u001b[0m\n\u001b[0;32m      5\u001b[0m \u001b[1;33m\u001b[0m\u001b[0m\n",
      "\u001b[1;31mNameError\u001b[0m: name 'latitude' is not defined"
     ]
    }
   ],
   "source": [
    "df_coord['Latitude'] = latitude\n",
    "df_coord['Longitude'] = longitude\n",
    "df_coord.loc[df_coord['Latitude'].isna(), 'Latitude'] = 0\n",
    "df_coord.loc[df_coord['Longitude'].isna(), 'Longitude'] = 0\n",
    "\n",
    "print('Successfully Geocoded ' + str(df_coord[df_coord[\"Longitude\"]!=0].shape[0]) + ' Rows')\n",
    "print('Unsuccessfully Geocoded ' + str(df_coord[df_coord[\"Longitude\"]==0].shape[0]) + ' Rows')"
   ]
  },
  {
   "cell_type": "markdown",
   "metadata": {},
   "source": [
    "Save Coordinate Data to IBM Watson Studio Project"
   ]
  },
  {
   "cell_type": "code",
   "execution_count": null,
   "metadata": {},
   "outputs": [],
   "source": [
    "from project_lib import Project\n",
    "project = Project(None,\"8d4e94d6-52f7-4825-a7e6-2f0dea3d0a65\",\"p-2b42818fe02e6e4544a2dab4f2c5e2f764da1b19\")\n",
    "project.save_data(data=df_coord.to_csv(index=False),file_name='dat_coord.csv',overwrite=True)"
   ]
  },
  {
   "cell_type": "markdown",
   "metadata": {},
   "source": [
    "Save Coordinates Dataframe to Local Drive"
   ]
  },
  {
   "cell_type": "code",
   "execution_count": null,
   "metadata": {},
   "outputs": [],
   "source": [
    "df_coord.to_csv('dat_coord.csv', index = False)"
   ]
  },
  {
   "cell_type": "markdown",
   "metadata": {},
   "source": [
    "**Retrieve Coordinates Dataframe from csv File (Geocoding Results)**"
   ]
  },
  {
   "cell_type": "markdown",
   "metadata": {},
   "source": [
    "Read from Watson Studio"
   ]
  },
  {
   "cell_type": "code",
   "execution_count": 126,
   "metadata": {},
   "outputs": [],
   "source": [
    "from project_lib import Project\n",
    "project = Project(None,\"8d4e94d6-52f7-4825-a7e6-2f0dea3d0a65\",\"p-2b42818fe02e6e4544a2dab4f2c5e2f764da1b19\")\n",
    "file = project.get_file('dat_coord.csv')\n",
    "file.seek(0)\n",
    "df_coord = pd.read_csv(file)"
   ]
  },
  {
   "cell_type": "markdown",
   "metadata": {},
   "source": [
    "Read from Local Drive"
   ]
  },
  {
   "cell_type": "code",
   "execution_count": 21,
   "metadata": {},
   "outputs": [
    {
     "data": {
      "text/plain": [
       "(539, 3)"
      ]
     },
     "execution_count": 21,
     "metadata": {},
     "output_type": "execute_result"
    }
   ],
   "source": [
    "df_coord = pd.read_csv('dat_coord.csv')"
   ]
  },
  {
   "cell_type": "markdown",
   "metadata": {},
   "source": [
    "### Retrieve Nearby Venues for Each Street Using Foursquare API"
   ]
  },
  {
   "cell_type": "markdown",
   "metadata": {},
   "source": [
    "Enter API keys"
   ]
  },
  {
   "cell_type": "code",
   "execution_count": 9,
   "metadata": {},
   "outputs": [],
   "source": [
    "d1 = dt.today().strftime(\"%Y%m%d\")\n",
    "CLIENT_ID = 'UY1D11XDHEQYWQTVL2QKJ0AMCKA5DP5KX3RHJAKAUDCORUAL' # Foursquare Client ID\n",
    "CLIENT_SECRET = 'W3CFYCNX02RVQD5MU0O2RFVNFOGONEVMGHVWZ3U3OBHPC0BC' # Foursquare Secret ID\n",
    "VERSION = d1 # Foursquare API version"
   ]
  },
  {
   "cell_type": "markdown",
   "metadata": {},
   "source": [
    "Define **'getNearbyVenues'** function to extract nearby venues from json"
   ]
  },
  {
   "cell_type": "code",
   "execution_count": 15,
   "metadata": {},
   "outputs": [],
   "source": [
    "def getNearbyVenues(names, latitudes, longitudes, radius=500, limit = 100):\n",
    "    \n",
    "    venues_list=[]\n",
    "    for name, lat, lng in zip(names, latitudes, longitudes):\n",
    "             \n",
    "        # create the API request URL\n",
    "        url = 'https://api.foursquare.com/v2/venues/explore?&client_id={}&client_secret={}&v={}&ll={},{}&radius={}&limit={}'.format(\n",
    "            CLIENT_ID, \n",
    "            CLIENT_SECRET, \n",
    "            VERSION, \n",
    "            lat, \n",
    "            lng, \n",
    "            radius, \n",
    "            limit)\n",
    "            \n",
    "        # make the GET request\n",
    "        results = requests.get(url).json()[\"response\"]['groups'][0]['items']\n",
    "        \n",
    "        # return only relevant information for each nearby venue\n",
    "        venues_list.append([(\n",
    "            name, \n",
    "            lat, \n",
    "            lng, \n",
    "            v['venue']['name'], \n",
    "            v['venue']['location']['lat'], \n",
    "            v['venue']['location']['lng'],  \n",
    "            v['venue']['categories'][0]['name']) for v in results])\n",
    "        \n",
    "    nearby_venues = pd.DataFrame([item for venue_list in venues_list for item in venue_list])\n",
    "    nearby_venues.columns = ['street_name', \n",
    "                  'Latitude', \n",
    "                  'Longitude', \n",
    "                  'Venue', \n",
    "                  'Venue Latitude', \n",
    "                  'Venue Longitude', \n",
    "                  'Venue Category']\n",
    "    \n",
    "    return(nearby_venues)"
   ]
  },
  {
   "cell_type": "markdown",
   "metadata": {},
   "source": [
    "Compile Nearby Venues into Dataframe"
   ]
  },
  {
   "cell_type": "code",
   "execution_count": 14,
   "metadata": {
    "collapsed": true
   },
   "outputs": [
    {
     "ename": "KeyError",
     "evalue": "'groups'",
     "output_type": "error",
     "traceback": [
      "\u001b[1;31m---------------------------------------------------------------------------\u001b[0m",
      "\u001b[1;31mKeyError\u001b[0m                                  Traceback (most recent call last)",
      "\u001b[1;32m<ipython-input-14-078b0c9e51a4>\u001b[0m in \u001b[0;36m<module>\u001b[1;34m\u001b[0m\n\u001b[0;32m      1\u001b[0m df_venues = getNearbyVenues(names = df_coord['street_name'],\n\u001b[0;32m      2\u001b[0m                             \u001b[0mlatitudes\u001b[0m \u001b[1;33m=\u001b[0m \u001b[0mdf_coord\u001b[0m\u001b[1;33m[\u001b[0m\u001b[1;34m'Latitude'\u001b[0m\u001b[1;33m]\u001b[0m\u001b[1;33m,\u001b[0m\u001b[1;33m\u001b[0m\u001b[1;33m\u001b[0m\u001b[0m\n\u001b[1;32m----> 3\u001b[1;33m                             longitudes = df_coord['Longitude'])\n\u001b[0m",
      "\u001b[1;32m<ipython-input-13-32a470f04a0c>\u001b[0m in \u001b[0;36mgetNearbyVenues\u001b[1;34m(names, latitudes, longitudes, radius, limit)\u001b[0m\n\u001b[0;32m     15\u001b[0m \u001b[1;33m\u001b[0m\u001b[0m\n\u001b[0;32m     16\u001b[0m         \u001b[1;31m# make the GET request\u001b[0m\u001b[1;33m\u001b[0m\u001b[1;33m\u001b[0m\u001b[1;33m\u001b[0m\u001b[0m\n\u001b[1;32m---> 17\u001b[1;33m         \u001b[0mresults\u001b[0m \u001b[1;33m=\u001b[0m \u001b[0mrequests\u001b[0m\u001b[1;33m.\u001b[0m\u001b[0mget\u001b[0m\u001b[1;33m(\u001b[0m\u001b[0murl\u001b[0m\u001b[1;33m)\u001b[0m\u001b[1;33m.\u001b[0m\u001b[0mjson\u001b[0m\u001b[1;33m(\u001b[0m\u001b[1;33m)\u001b[0m\u001b[1;33m[\u001b[0m\u001b[1;34m\"response\"\u001b[0m\u001b[1;33m]\u001b[0m\u001b[1;33m[\u001b[0m\u001b[1;34m'groups'\u001b[0m\u001b[1;33m]\u001b[0m\u001b[1;33m[\u001b[0m\u001b[1;36m0\u001b[0m\u001b[1;33m]\u001b[0m\u001b[1;33m[\u001b[0m\u001b[1;34m'items'\u001b[0m\u001b[1;33m]\u001b[0m\u001b[1;33m\u001b[0m\u001b[1;33m\u001b[0m\u001b[0m\n\u001b[0m\u001b[0;32m     18\u001b[0m \u001b[1;33m\u001b[0m\u001b[0m\n\u001b[0;32m     19\u001b[0m         \u001b[1;31m# return only relevant information for each nearby venue\u001b[0m\u001b[1;33m\u001b[0m\u001b[1;33m\u001b[0m\u001b[1;33m\u001b[0m\u001b[0m\n",
      "\u001b[1;31mKeyError\u001b[0m: 'groups'"
     ]
    }
   ],
   "source": [
    "df_venues = getNearbyVenues(names = df_coord['street_name'],\n",
    "                            latitudes = df_coord['Latitude'],\n",
    "                            longitudes = df_coord['Longitude'])"
   ]
  },
  {
   "cell_type": "markdown",
   "metadata": {},
   "source": [
    "Save file to IBM Watson Studio Project"
   ]
  },
  {
   "cell_type": "code",
   "execution_count": 161,
   "metadata": {},
   "outputs": [
    {
     "data": {
      "text/plain": [
       "{'file_name': 'dat_venues.csv',\n",
       " 'message': 'File saved to project storage.',\n",
       " 'bucket_name': 'courseraibmprofessionalcertificat-donotdelete-pr-rtwouamowuycf6',\n",
       " 'asset_id': '185a4a86-0e41-46de-b38e-1c5482fb295d'}"
      ]
     },
     "execution_count": 161,
     "metadata": {},
     "output_type": "execute_result"
    }
   ],
   "source": [
    "project.save_data(data=df_venues.to_csv(index=False),file_name='dat_venues.csv',overwrite=True)"
   ]
  },
  {
   "cell_type": "markdown",
   "metadata": {},
   "source": [
    "Save file to local drive"
   ]
  },
  {
   "cell_type": "code",
   "execution_count": 72,
   "metadata": {},
   "outputs": [],
   "source": [
    "df_venues.to_csv(\"dat_venues.csv\", index = False)"
   ]
  },
  {
   "cell_type": "markdown",
   "metadata": {},
   "source": [
    "**Retrieve Nearby Venues Dataframe from csv file**"
   ]
  },
  {
   "cell_type": "markdown",
   "metadata": {},
   "source": [
    "Read from IBM Watson Studio Project"
   ]
  },
  {
   "cell_type": "code",
   "execution_count": null,
   "metadata": {},
   "outputs": [],
   "source": [
    "file = project.get_file('dat_venues.csv')\n",
    "file.seek(0)\n",
    "df_coord = pd.read_csv(file)"
   ]
  },
  {
   "cell_type": "markdown",
   "metadata": {},
   "source": [
    "Read from Local Drive"
   ]
  },
  {
   "cell_type": "code",
   "execution_count": 22,
   "metadata": {},
   "outputs": [],
   "source": [
    "df_venues = pd.read_csv(\"dat_venues.csv\")"
   ]
  },
  {
   "cell_type": "markdown",
   "metadata": {},
   "source": [
    "## Feature Engineering Using Venues Data"
   ]
  },
  {
   "cell_type": "code",
   "execution_count": 23,
   "metadata": {},
   "outputs": [
    {
     "data": {
      "text/html": [
       "<div>\n",
       "<style scoped>\n",
       "    .dataframe tbody tr th:only-of-type {\n",
       "        vertical-align: middle;\n",
       "    }\n",
       "\n",
       "    .dataframe tbody tr th {\n",
       "        vertical-align: top;\n",
       "    }\n",
       "\n",
       "    .dataframe thead th {\n",
       "        text-align: right;\n",
       "    }\n",
       "</style>\n",
       "<table border=\"1\" class=\"dataframe\">\n",
       "  <thead>\n",
       "    <tr style=\"text-align: right;\">\n",
       "      <th></th>\n",
       "      <th>Unnamed: 0</th>\n",
       "      <th>street_name</th>\n",
       "      <th>Latitude</th>\n",
       "      <th>Longitude</th>\n",
       "      <th>Venue</th>\n",
       "      <th>Venue Latitude</th>\n",
       "      <th>Venue Longitude</th>\n",
       "      <th>Venue Category</th>\n",
       "    </tr>\n",
       "  </thead>\n",
       "  <tbody>\n",
       "    <tr>\n",
       "      <th>0</th>\n",
       "      <td>0</td>\n",
       "      <td>JURONG EAST ST 21</td>\n",
       "      <td>1.333969</td>\n",
       "      <td>103.745903</td>\n",
       "      <td>Platinum Movie Suites</td>\n",
       "      <td>1.333425</td>\n",
       "      <td>103.744113</td>\n",
       "      <td>Theater</td>\n",
       "    </tr>\n",
       "    <tr>\n",
       "      <th>1</th>\n",
       "      <td>1</td>\n",
       "      <td>JURONG EAST ST 21</td>\n",
       "      <td>1.333969</td>\n",
       "      <td>103.745903</td>\n",
       "      <td>Hai Di Lao 海底捞火锅 (Hai Di Lao)</td>\n",
       "      <td>1.334577</td>\n",
       "      <td>103.746118</td>\n",
       "      <td>Restaurant</td>\n",
       "    </tr>\n",
       "    <tr>\n",
       "      <th>2</th>\n",
       "      <td>2</td>\n",
       "      <td>JURONG EAST ST 21</td>\n",
       "      <td>1.333969</td>\n",
       "      <td>103.745903</td>\n",
       "      <td>Song Fa Bak Kut Teh 松發肉骨茶</td>\n",
       "      <td>1.333394</td>\n",
       "      <td>103.743420</td>\n",
       "      <td>Restaurant</td>\n",
       "    </tr>\n",
       "    <tr>\n",
       "      <th>3</th>\n",
       "      <td>3</td>\n",
       "      <td>JURONG EAST ST 21</td>\n",
       "      <td>1.333969</td>\n",
       "      <td>103.745903</td>\n",
       "      <td>UNIQLO</td>\n",
       "      <td>1.333175</td>\n",
       "      <td>103.743160</td>\n",
       "      <td>Clothing Store</td>\n",
       "    </tr>\n",
       "    <tr>\n",
       "      <th>4</th>\n",
       "      <td>4</td>\n",
       "      <td>JURONG EAST ST 21</td>\n",
       "      <td>1.333969</td>\n",
       "      <td>103.745903</td>\n",
       "      <td>Coach Factory Outlet</td>\n",
       "      <td>1.334390</td>\n",
       "      <td>103.746102</td>\n",
       "      <td>Accessories Store</td>\n",
       "    </tr>\n",
       "  </tbody>\n",
       "</table>\n",
       "</div>"
      ],
      "text/plain": [
       "   Unnamed: 0        street_name  Latitude   Longitude  \\\n",
       "0           0  JURONG EAST ST 21  1.333969  103.745903   \n",
       "1           1  JURONG EAST ST 21  1.333969  103.745903   \n",
       "2           2  JURONG EAST ST 21  1.333969  103.745903   \n",
       "3           3  JURONG EAST ST 21  1.333969  103.745903   \n",
       "4           4  JURONG EAST ST 21  1.333969  103.745903   \n",
       "\n",
       "                           Venue  Venue Latitude  Venue Longitude  \\\n",
       "0          Platinum Movie Suites        1.333425       103.744113   \n",
       "1  Hai Di Lao 海底捞火锅 (Hai Di Lao)        1.334577       103.746118   \n",
       "2      Song Fa Bak Kut Teh 松發肉骨茶        1.333394       103.743420   \n",
       "3                         UNIQLO        1.333175       103.743160   \n",
       "4           Coach Factory Outlet        1.334390       103.746102   \n",
       "\n",
       "      Venue Category  \n",
       "0            Theater  \n",
       "1         Restaurant  \n",
       "2         Restaurant  \n",
       "3     Clothing Store  \n",
       "4  Accessories Store  "
      ]
     },
     "execution_count": 23,
     "metadata": {},
     "output_type": "execute_result"
    }
   ],
   "source": [
    "# A quick view of the nearby venues dataset\n",
    "df_venues.head()"
   ]
  },
  {
   "cell_type": "markdown",
   "metadata": {},
   "source": [
    "### Streamline Venue Categories"
   ]
  },
  {
   "cell_type": "markdown",
   "metadata": {},
   "source": [
    "Only major venue categories that might affect property prices are grouped."
   ]
  },
  {
   "cell_type": "code",
   "execution_count": 24,
   "metadata": {},
   "outputs": [],
   "source": [
    "# Bus Stops\n",
    "df_venues['Venue Category'] = df_venues['Venue Category'].replace(\n",
    "    ['Bus Station', 'Bus Stop', 'Bus Line'], \n",
    "    'Bus Stop', regex = True)\n",
    "\n",
    "# Train Stations\n",
    "df_venues['Venue Category'] = df_venues['Venue Category'].replace(\n",
    "    ['Train Station', 'Metro Station', 'Light Rail Station'], \n",
    "    'Train Station', regex = True)\n",
    "\n",
    "# Supermarkets\n",
    "df_venues['Venue Category'] = df_venues['Venue Category'].replace(\n",
    "    ['Supermarket', 'Department Store', 'Convenience Store', 'Grocery Store'], \n",
    "    'Supermarket', regex = True)\n",
    "\n",
    "# Parks\n",
    "df_venues['Venue Category'] = df_venues['Venue Category'].replace(\n",
    "    ['Park', 'Lake', 'Garden', 'Other Great Outdoors'], \n",
    "    'Park', regex = True)\n",
    "\n",
    "# Shopping Malls\n",
    "df_venues['Venue Category'] = df_venues['Venue Category'].replace(\n",
    "    ['Shopping Mall', 'Shopping Plaza'], \n",
    "    'Shopping Mall', regex = True)\n",
    "\n",
    "# Gyms\n",
    "df_venues['Venue Category'] = df_venues['Venue Category'].replace(\n",
    "    ['Gym', 'Gym / Fitness Center', 'Climbing Gym', 'College Gym'], \n",
    "    'Gym', regex = True)\n",
    "\n",
    "# Theaters\n",
    "df_venues['Venue Category'] = df_venues['Venue Category'].replace(\n",
    "    ['Multiplex', 'Theater', 'Movie Theater', 'Indie Theater', 'College Theater'], \n",
    "    'Theater', regex = True)\n",
    "\n",
    "# Museums\n",
    "df_venues.loc[df_venues['Venue Category'].str.contains('Museum', case=False), 'Venue Category'] = 'Museum'\n",
    "\n",
    "# Restaurants\n",
    "df_venues.loc[df_venues['Venue Category'].str.contains('Restaurant', case=False), 'Venue Category'] = 'Restaurant'"
   ]
  },
  {
   "cell_type": "markdown",
   "metadata": {},
   "source": [
    "### Filter venues dataframe with selected venues"
   ]
  },
  {
   "cell_type": "code",
   "execution_count": 51,
   "metadata": {},
   "outputs": [],
   "source": [
    "# Create list of selected Venue Categories\n",
    "venue_list = ['Bus Stop', 'Train Station', 'Supermarket', 'Park', 'Shopping Mall',\n",
    "              'Gym', 'Theater', 'Restaurant', 'High School', 'General College & University',\n",
    "              'Museum', 'Food Court']\n",
    "\n",
    "# Filter venue dataframe with venue list\n",
    "df_vcat = df_venues.loc[df_venues['Venue Category'].isin(venue_list),]"
   ]
  },
  {
   "cell_type": "code",
   "execution_count": 52,
   "metadata": {},
   "outputs": [
    {
     "data": {
      "text/html": [
       "<div>\n",
       "<style scoped>\n",
       "    .dataframe tbody tr th:only-of-type {\n",
       "        vertical-align: middle;\n",
       "    }\n",
       "\n",
       "    .dataframe tbody tr th {\n",
       "        vertical-align: top;\n",
       "    }\n",
       "\n",
       "    .dataframe thead th {\n",
       "        text-align: right;\n",
       "    }\n",
       "</style>\n",
       "<table border=\"1\" class=\"dataframe\">\n",
       "  <thead>\n",
       "    <tr style=\"text-align: right;\">\n",
       "      <th>Venue Category</th>\n",
       "      <th>street_name</th>\n",
       "      <th>Bus Stop</th>\n",
       "      <th>Food Court</th>\n",
       "      <th>General College &amp; University</th>\n",
       "      <th>Gym</th>\n",
       "      <th>High School</th>\n",
       "      <th>Museum</th>\n",
       "      <th>Park</th>\n",
       "      <th>Restaurant</th>\n",
       "      <th>Shopping Mall</th>\n",
       "      <th>Supermarket</th>\n",
       "      <th>Theater</th>\n",
       "      <th>Train Station</th>\n",
       "    </tr>\n",
       "  </thead>\n",
       "  <tbody>\n",
       "    <tr>\n",
       "      <th>0</th>\n",
       "      <td>157 CORPORATION DRIVE</td>\n",
       "      <td>1.0</td>\n",
       "      <td>1.0</td>\n",
       "      <td>0.0</td>\n",
       "      <td>0.0</td>\n",
       "      <td>0.0</td>\n",
       "      <td>0.0</td>\n",
       "      <td>0.0</td>\n",
       "      <td>0.0</td>\n",
       "      <td>0.0</td>\n",
       "      <td>1.0</td>\n",
       "      <td>0.0</td>\n",
       "      <td>0.0</td>\n",
       "    </tr>\n",
       "    <tr>\n",
       "      <th>1</th>\n",
       "      <td>ADMIRALTY DRIVE</td>\n",
       "      <td>1.0</td>\n",
       "      <td>1.0</td>\n",
       "      <td>0.0</td>\n",
       "      <td>0.0</td>\n",
       "      <td>0.0</td>\n",
       "      <td>0.0</td>\n",
       "      <td>0.0</td>\n",
       "      <td>3.0</td>\n",
       "      <td>1.0</td>\n",
       "      <td>2.0</td>\n",
       "      <td>0.0</td>\n",
       "      <td>1.0</td>\n",
       "    </tr>\n",
       "    <tr>\n",
       "      <th>2</th>\n",
       "      <td>ADMIRALTY LINK</td>\n",
       "      <td>0.0</td>\n",
       "      <td>1.0</td>\n",
       "      <td>0.0</td>\n",
       "      <td>0.0</td>\n",
       "      <td>0.0</td>\n",
       "      <td>0.0</td>\n",
       "      <td>0.0</td>\n",
       "      <td>0.0</td>\n",
       "      <td>0.0</td>\n",
       "      <td>1.0</td>\n",
       "      <td>0.0</td>\n",
       "      <td>0.0</td>\n",
       "    </tr>\n",
       "    <tr>\n",
       "      <th>3</th>\n",
       "      <td>AH HOOD RD</td>\n",
       "      <td>1.0</td>\n",
       "      <td>4.0</td>\n",
       "      <td>0.0</td>\n",
       "      <td>0.0</td>\n",
       "      <td>0.0</td>\n",
       "      <td>0.0</td>\n",
       "      <td>1.0</td>\n",
       "      <td>11.0</td>\n",
       "      <td>1.0</td>\n",
       "      <td>1.0</td>\n",
       "      <td>0.0</td>\n",
       "      <td>0.0</td>\n",
       "    </tr>\n",
       "    <tr>\n",
       "      <th>4</th>\n",
       "      <td>ALJUNIED CRES</td>\n",
       "      <td>0.0</td>\n",
       "      <td>2.0</td>\n",
       "      <td>0.0</td>\n",
       "      <td>0.0</td>\n",
       "      <td>0.0</td>\n",
       "      <td>0.0</td>\n",
       "      <td>0.0</td>\n",
       "      <td>12.0</td>\n",
       "      <td>0.0</td>\n",
       "      <td>2.0</td>\n",
       "      <td>0.0</td>\n",
       "      <td>1.0</td>\n",
       "    </tr>\n",
       "  </tbody>\n",
       "</table>\n",
       "</div>"
      ],
      "text/plain": [
       "Venue Category            street_name  Bus Stop  Food Court  \\\n",
       "0               157 CORPORATION DRIVE       1.0         1.0   \n",
       "1                     ADMIRALTY DRIVE       1.0         1.0   \n",
       "2                      ADMIRALTY LINK       0.0         1.0   \n",
       "3                          AH HOOD RD       1.0         4.0   \n",
       "4                       ALJUNIED CRES       0.0         2.0   \n",
       "\n",
       "Venue Category  General College & University  Gym  High School  Museum  Park  \\\n",
       "0                                        0.0  0.0          0.0     0.0   0.0   \n",
       "1                                        0.0  0.0          0.0     0.0   0.0   \n",
       "2                                        0.0  0.0          0.0     0.0   0.0   \n",
       "3                                        0.0  0.0          0.0     0.0   1.0   \n",
       "4                                        0.0  0.0          0.0     0.0   0.0   \n",
       "\n",
       "Venue Category  Restaurant  Shopping Mall  Supermarket  Theater  Train Station  \n",
       "0                      0.0            0.0          1.0      0.0            0.0  \n",
       "1                      3.0            1.0          2.0      0.0            1.0  \n",
       "2                      0.0            0.0          1.0      0.0            0.0  \n",
       "3                     11.0            1.0          1.0      0.0            0.0  \n",
       "4                     12.0            0.0          2.0      0.0            1.0  "
      ]
     },
     "execution_count": 52,
     "metadata": {},
     "output_type": "execute_result"
    }
   ],
   "source": [
    "df_vcat = pd.DataFrame(df_vcat.groupby(['street_name', 'Venue Category'])['Venue'].count())\n",
    "df_vcat = df_vcat.reset_index()\n",
    "df_vcat = df_vcat.pivot(index='street_name',columns='Venue Category',values='Venue')\n",
    "df_vcat = df_vcat.reset_index()\n",
    "df_vcat.fillna(0, inplace = True)\n",
    "df_vcat.head()"
   ]
  },
  {
   "cell_type": "markdown",
   "metadata": {},
   "source": [
    "### Merge Venue Category And Coordinates Dataframe with HDB Dataframe"
   ]
  },
  {
   "cell_type": "markdown",
   "metadata": {},
   "source": [
    "Perform One-Hot Encoding for columns \"town\", \"flat_type\", 'flat_model\" and \"storey_range\" and merge to main dataframe."
   ]
  },
  {
   "cell_type": "code",
   "execution_count": 54,
   "metadata": {},
   "outputs": [
    {
     "data": {
      "text/html": [
       "<div>\n",
       "<style scoped>\n",
       "    .dataframe tbody tr th:only-of-type {\n",
       "        vertical-align: middle;\n",
       "    }\n",
       "\n",
       "    .dataframe tbody tr th {\n",
       "        vertical-align: top;\n",
       "    }\n",
       "\n",
       "    .dataframe thead th {\n",
       "        text-align: right;\n",
       "    }\n",
       "</style>\n",
       "<table border=\"1\" class=\"dataframe\">\n",
       "  <thead>\n",
       "    <tr style=\"text-align: right;\">\n",
       "      <th></th>\n",
       "      <th>floor_area_sqm</th>\n",
       "      <th>month</th>\n",
       "      <th>remaining_lease</th>\n",
       "      <th>year</th>\n",
       "      <th>price_sqm</th>\n",
       "      <th>Bus Stop</th>\n",
       "      <th>Food Court</th>\n",
       "      <th>General College &amp; University</th>\n",
       "      <th>Gym</th>\n",
       "      <th>High School</th>\n",
       "      <th>...</th>\n",
       "      <th>storey_range_22 TO 24</th>\n",
       "      <th>storey_range_25 TO 27</th>\n",
       "      <th>storey_range_28 TO 30</th>\n",
       "      <th>storey_range_31 TO 33</th>\n",
       "      <th>storey_range_34 TO 36</th>\n",
       "      <th>storey_range_37 TO 39</th>\n",
       "      <th>storey_range_40 TO 42</th>\n",
       "      <th>storey_range_43 TO 45</th>\n",
       "      <th>storey_range_46 TO 48</th>\n",
       "      <th>storey_range_49 TO 51</th>\n",
       "    </tr>\n",
       "  </thead>\n",
       "  <tbody>\n",
       "    <tr>\n",
       "      <th>0</th>\n",
       "      <td>67.0</td>\n",
       "      <td>7.0</td>\n",
       "      <td>63.666667</td>\n",
       "      <td>2018</td>\n",
       "      <td>4029.850746</td>\n",
       "      <td>0.0</td>\n",
       "      <td>0.0</td>\n",
       "      <td>0.0</td>\n",
       "      <td>0.0</td>\n",
       "      <td>0.0</td>\n",
       "      <td>...</td>\n",
       "      <td>0</td>\n",
       "      <td>0</td>\n",
       "      <td>0</td>\n",
       "      <td>0</td>\n",
       "      <td>0</td>\n",
       "      <td>0</td>\n",
       "      <td>0</td>\n",
       "      <td>0</td>\n",
       "      <td>0</td>\n",
       "      <td>0</td>\n",
       "    </tr>\n",
       "    <tr>\n",
       "      <th>1</th>\n",
       "      <td>67.0</td>\n",
       "      <td>7.0</td>\n",
       "      <td>63.750000</td>\n",
       "      <td>2018</td>\n",
       "      <td>3701.492537</td>\n",
       "      <td>0.0</td>\n",
       "      <td>0.0</td>\n",
       "      <td>0.0</td>\n",
       "      <td>0.0</td>\n",
       "      <td>0.0</td>\n",
       "      <td>...</td>\n",
       "      <td>0</td>\n",
       "      <td>0</td>\n",
       "      <td>0</td>\n",
       "      <td>0</td>\n",
       "      <td>0</td>\n",
       "      <td>0</td>\n",
       "      <td>0</td>\n",
       "      <td>0</td>\n",
       "      <td>0</td>\n",
       "      <td>0</td>\n",
       "    </tr>\n",
       "    <tr>\n",
       "      <th>2</th>\n",
       "      <td>84.0</td>\n",
       "      <td>7.0</td>\n",
       "      <td>63.583333</td>\n",
       "      <td>2018</td>\n",
       "      <td>3785.714286</td>\n",
       "      <td>1.0</td>\n",
       "      <td>2.0</td>\n",
       "      <td>0.0</td>\n",
       "      <td>0.0</td>\n",
       "      <td>0.0</td>\n",
       "      <td>...</td>\n",
       "      <td>0</td>\n",
       "      <td>0</td>\n",
       "      <td>0</td>\n",
       "      <td>0</td>\n",
       "      <td>0</td>\n",
       "      <td>0</td>\n",
       "      <td>0</td>\n",
       "      <td>0</td>\n",
       "      <td>0</td>\n",
       "      <td>0</td>\n",
       "    </tr>\n",
       "    <tr>\n",
       "      <th>3</th>\n",
       "      <td>67.0</td>\n",
       "      <td>7.0</td>\n",
       "      <td>66.916667</td>\n",
       "      <td>2018</td>\n",
       "      <td>4552.238806</td>\n",
       "      <td>1.0</td>\n",
       "      <td>2.0</td>\n",
       "      <td>0.0</td>\n",
       "      <td>0.0</td>\n",
       "      <td>0.0</td>\n",
       "      <td>...</td>\n",
       "      <td>0</td>\n",
       "      <td>0</td>\n",
       "      <td>0</td>\n",
       "      <td>0</td>\n",
       "      <td>0</td>\n",
       "      <td>0</td>\n",
       "      <td>0</td>\n",
       "      <td>0</td>\n",
       "      <td>0</td>\n",
       "      <td>0</td>\n",
       "    </tr>\n",
       "    <tr>\n",
       "      <th>4</th>\n",
       "      <td>67.0</td>\n",
       "      <td>7.0</td>\n",
       "      <td>65.916667</td>\n",
       "      <td>2018</td>\n",
       "      <td>3850.746269</td>\n",
       "      <td>1.0</td>\n",
       "      <td>2.0</td>\n",
       "      <td>0.0</td>\n",
       "      <td>0.0</td>\n",
       "      <td>0.0</td>\n",
       "      <td>...</td>\n",
       "      <td>0</td>\n",
       "      <td>0</td>\n",
       "      <td>0</td>\n",
       "      <td>0</td>\n",
       "      <td>0</td>\n",
       "      <td>0</td>\n",
       "      <td>0</td>\n",
       "      <td>0</td>\n",
       "      <td>0</td>\n",
       "      <td>0</td>\n",
       "    </tr>\n",
       "  </tbody>\n",
       "</table>\n",
       "<p>5 rows × 87 columns</p>\n",
       "</div>"
      ],
      "text/plain": [
       "   floor_area_sqm  month  remaining_lease  year    price_sqm  Bus Stop  \\\n",
       "0            67.0    7.0        63.666667  2018  4029.850746       0.0   \n",
       "1            67.0    7.0        63.750000  2018  3701.492537       0.0   \n",
       "2            84.0    7.0        63.583333  2018  3785.714286       1.0   \n",
       "3            67.0    7.0        66.916667  2018  4552.238806       1.0   \n",
       "4            67.0    7.0        65.916667  2018  3850.746269       1.0   \n",
       "\n",
       "   Food Court  General College & University  Gym  High School  ...  \\\n",
       "0         0.0                           0.0  0.0          0.0  ...   \n",
       "1         0.0                           0.0  0.0          0.0  ...   \n",
       "2         2.0                           0.0  0.0          0.0  ...   \n",
       "3         2.0                           0.0  0.0          0.0  ...   \n",
       "4         2.0                           0.0  0.0          0.0  ...   \n",
       "\n",
       "   storey_range_22 TO 24  storey_range_25 TO 27  storey_range_28 TO 30  \\\n",
       "0                      0                      0                      0   \n",
       "1                      0                      0                      0   \n",
       "2                      0                      0                      0   \n",
       "3                      0                      0                      0   \n",
       "4                      0                      0                      0   \n",
       "\n",
       "   storey_range_31 TO 33  storey_range_34 TO 36  storey_range_37 TO 39  \\\n",
       "0                      0                      0                      0   \n",
       "1                      0                      0                      0   \n",
       "2                      0                      0                      0   \n",
       "3                      0                      0                      0   \n",
       "4                      0                      0                      0   \n",
       "\n",
       "   storey_range_40 TO 42  storey_range_43 TO 45  storey_range_46 TO 48  \\\n",
       "0                      0                      0                      0   \n",
       "1                      0                      0                      0   \n",
       "2                      0                      0                      0   \n",
       "3                      0                      0                      0   \n",
       "4                      0                      0                      0   \n",
       "\n",
       "   storey_range_49 TO 51  \n",
       "0                      0  \n",
       "1                      0  \n",
       "2                      0  \n",
       "3                      0  \n",
       "4                      0  \n",
       "\n",
       "[5 rows x 87 columns]"
      ]
     },
     "execution_count": 54,
     "metadata": {},
     "output_type": "execute_result"
    }
   ],
   "source": [
    "df_main = df_hdb.merge(df_vcat, how = 'left', on = 'street_name')\n",
    "df_onehot = pd.get_dummies(df_main[['town', 'flat_type', 'flat_model', 'storey_range']])\n",
    "df_final = df_main.join(df_onehot)\n",
    "df_final.drop(['town', 'flat_type','flat_model','storey_range', 'street_name', 'resale_price','id','block','lease_commence_date'], \n",
    "              axis = 1, inplace = True)\n",
    "df_final.head()"
   ]
  },
  {
   "cell_type": "markdown",
   "metadata": {},
   "source": [
    "## Model Building and Evaluation"
   ]
  },
  {
   "cell_type": "markdown",
   "metadata": {},
   "source": [
    "### Preprocess Data for Model Building"
   ]
  },
  {
   "cell_type": "markdown",
   "metadata": {},
   "source": [
    "Split Dataset into Features Set and Target Set ( X, y). The **price_sqm** will be our dependent variable."
   ]
  },
  {
   "cell_type": "code",
   "execution_count": 92,
   "metadata": {},
   "outputs": [],
   "source": [
    "y = df_final['price_sqm']\n",
    "X = df_final.drop(['price_sqm'], axis = 1)"
   ]
  },
  {
   "cell_type": "markdown",
   "metadata": {},
   "source": [
    "Split Dataset into training and testing sets"
   ]
  },
  {
   "cell_type": "code",
   "execution_count": 93,
   "metadata": {},
   "outputs": [],
   "source": [
    "# Split datasets into train and test datasets\n",
    "X_train, X_test, y_train, y_test = train_test_split(X, y, test_size =0.25, random_state = 2020)"
   ]
  },
  {
   "cell_type": "markdown",
   "metadata": {},
   "source": [
    "Standardize datasets"
   ]
  },
  {
   "cell_type": "code",
   "execution_count": 94,
   "metadata": {},
   "outputs": [],
   "source": [
    "scaler = StandardScaler().fit(X_train)\n",
    "X_trains = scaler.transform(X_train)\n",
    "X_tests = scaler.transform(X_test)"
   ]
  },
  {
   "cell_type": "markdown",
   "metadata": {},
   "source": [
    "### Model Building: Extreme Gradient Boosted Trees (XGBoost)"
   ]
  },
  {
   "cell_type": "code",
   "execution_count": 83,
   "metadata": {},
   "outputs": [
    {
     "name": "stderr",
     "output_type": "stream",
     "text": [
      "C:\\Users\\admin\\Anaconda3\\lib\\site-packages\\xgboost\\core.py:587: FutureWarning: Series.base is deprecated and will be removed in a future version\n",
      "  if getattr(data, 'base', None) is not None and \\\n"
     ]
    }
   ],
   "source": [
    "import xgboost as xgb\n",
    "from sklearn.preprocessing import StandardScaler\n",
    "from sklearn.model_selection import train_test_split\n",
    "from sklearn.model_selection import RandomizedSearchCV, RepeatedKFold\n",
    "from sklearn.metrics import mean_absolute_error\n",
    "from sklearn.metrics import mean_squared_error\n",
    "from sklearn.metrics import r2_score\n",
    "import math\n",
    "\n",
    "# Convert datasets to XGBDMatrix\n",
    "dtrain = xgb.DMatrix(X_trains, label = y_train)\n",
    "dtest = xgb.DMatrix(X_tests, label = y_test)\n"
   ]
  },
  {
   "cell_type": "markdown",
   "metadata": {},
   "source": [
    "**Build Default Baseline Model**"
   ]
  },
  {
   "cell_type": "markdown",
   "metadata": {},
   "source": [
    "Define Model Parameters and perform cross-validation to get best 'num_boost_rounds'."
   ]
  },
  {
   "cell_type": "code",
   "execution_count": 82,
   "metadata": {
    "collapsed": true
   },
   "outputs": [
    {
     "name": "stdout",
     "output_type": "stream",
     "text": [
      "[0]\ttrain-rmse:2407.71+1.24709\ttest-rmse:2408.04+5.48743\n",
      "[10]\ttrain-rmse:414.846+9.59192\ttest-rmse:422.062+10.5247\n",
      "[20]\ttrain-rmse:341.106+6.26352\ttest-rmse:352.614+6.62509\n",
      "[30]\ttrain-rmse:311.637+4.47896\ttest-rmse:326.266+4.82879\n",
      "[40]\ttrain-rmse:292.373+1.66885\ttest-rmse:310.362+2.41645\n",
      "[50]\ttrain-rmse:280.044+1.81493\ttest-rmse:300.177+3.11109\n",
      "[60]\ttrain-rmse:270.384+2.42854\ttest-rmse:292.911+3.76127\n",
      "[70]\ttrain-rmse:260.726+1.32942\ttest-rmse:286.131+2.68542\n",
      "[80]\ttrain-rmse:253.832+1.67785\ttest-rmse:281.761+2.76828\n",
      "[90]\ttrain-rmse:247.359+1.56379\ttest-rmse:277.793+2.42791\n",
      "[100]\ttrain-rmse:241.683+1.67506\ttest-rmse:274.557+1.56842\n",
      "[110]\ttrain-rmse:236.923+1.6292\ttest-rmse:271.935+1.63096\n",
      "[120]\ttrain-rmse:232.185+1.29835\ttest-rmse:269.076+1.57394\n",
      "[130]\ttrain-rmse:227.594+0.899904\ttest-rmse:266.704+1.32041\n",
      "[140]\ttrain-rmse:223.823+0.976285\ttest-rmse:264.874+1.4917\n",
      "[150]\ttrain-rmse:220.188+1.12863\ttest-rmse:263.201+1.56663\n",
      "[160]\ttrain-rmse:216.751+0.847202\ttest-rmse:261.609+1.35766\n",
      "[170]\ttrain-rmse:213.515+1.07896\ttest-rmse:260.082+1.32393\n",
      "[180]\ttrain-rmse:210.459+1.28809\ttest-rmse:258.923+1.25214\n",
      "[190]\ttrain-rmse:207.551+1.33957\ttest-rmse:257.758+1.34242\n",
      "[200]\ttrain-rmse:204.41+1.45371\ttest-rmse:256.494+1.12857\n",
      "[210]\ttrain-rmse:201.879+1.16671\ttest-rmse:255.684+1.2523\n",
      "[220]\ttrain-rmse:199.465+1.2361\ttest-rmse:254.716+1.11094\n",
      "[230]\ttrain-rmse:196.95+1.25345\ttest-rmse:253.994+1.25213\n",
      "[240]\ttrain-rmse:194.681+1.23076\ttest-rmse:253.284+1.37683\n",
      "[250]\ttrain-rmse:192.287+1.37923\ttest-rmse:252.595+1.39824\n",
      "[260]\ttrain-rmse:190.059+1.48694\ttest-rmse:251.913+1.48623\n",
      "[270]\ttrain-rmse:187.979+1.54261\ttest-rmse:251.213+1.54642\n",
      "[280]\ttrain-rmse:185.925+1.39042\ttest-rmse:250.697+1.40178\n",
      "[290]\ttrain-rmse:183.854+1.53531\ttest-rmse:250.238+1.27645\n",
      "[300]\ttrain-rmse:182.059+1.64231\ttest-rmse:249.755+1.22749\n",
      "[310]\ttrain-rmse:179.995+1.60903\ttest-rmse:249.328+1.13864\n",
      "[320]\ttrain-rmse:178.146+1.47094\ttest-rmse:248.764+1.09073\n",
      "[330]\ttrain-rmse:176.321+1.68756\ttest-rmse:248.223+1.08946\n",
      "[340]\ttrain-rmse:174.484+1.72658\ttest-rmse:247.679+1.1295\n",
      "[350]\ttrain-rmse:172.739+1.73976\ttest-rmse:247.251+1.17764\n",
      "[360]\ttrain-rmse:171.197+1.76467\ttest-rmse:246.879+1.11507\n",
      "[370]\ttrain-rmse:169.697+1.63641\ttest-rmse:246.492+1.07827\n",
      "[380]\ttrain-rmse:168.022+1.41603\ttest-rmse:246.151+1.09418\n",
      "[390]\ttrain-rmse:166.484+1.33698\ttest-rmse:245.674+1.15253\n",
      "[400]\ttrain-rmse:165.218+1.33012\ttest-rmse:245.388+1.16673\n",
      "[410]\ttrain-rmse:163.698+1.30174\ttest-rmse:245.084+1.30495\n",
      "[420]\ttrain-rmse:162.431+1.20257\ttest-rmse:244.911+1.36777\n",
      "[430]\ttrain-rmse:160.998+1.11557\ttest-rmse:244.553+1.38807\n",
      "[440]\ttrain-rmse:159.696+1.11313\ttest-rmse:244.378+1.42149\n",
      "[450]\ttrain-rmse:158.511+1.05052\ttest-rmse:244.201+1.44967\n",
      "[460]\ttrain-rmse:157.334+1.04488\ttest-rmse:243.992+1.45104\n",
      "[470]\ttrain-rmse:156.003+1.02701\ttest-rmse:243.717+1.44737\n",
      "[480]\ttrain-rmse:154.739+1.12486\ttest-rmse:243.424+1.54728\n",
      "[490]\ttrain-rmse:153.394+0.939414\ttest-rmse:243.164+1.48815\n",
      "[499]\ttrain-rmse:152.243+0.911669\ttest-rmse:242.952+1.59011\n"
     ]
    }
   ],
   "source": [
    "# Define model parameters\n",
    "xgb_params = {'obj':'reg:squarederror',\n",
    "              'eval_metric':'rmse',\n",
    "              'max_depth':6, \n",
    "              'eta':0.5,\n",
    "              'min_child_weight':1,\n",
    "              'subsample':1,\n",
    "              'colsample_bytree':1}\n",
    "\n",
    "# Find model parameters 'num_boost_round' using cv\n",
    "cv_res = xgb.cv(xgb_params, \n",
    "                dtrain, \n",
    "                num_boost_round=500, \n",
    "                nfold=5, \n",
    "                seed=2020, \n",
    "                stratified=False,\n",
    "                early_stopping_rounds=25, \n",
    "                verbose_eval=10, \n",
    "                show_stdv=True)\n",
    "\n",
    "# Get best num_boost_round\n",
    "nrounds = cv_res[cv_res['test-rmse-mean'] == cv_res['test-rmse-mean'].min()].index[0]\n",
    "cv_res[cv_res['test-rmse-mean'] == cv_res['test-rmse-mean'].min()]"
   ]
  },
  {
   "cell_type": "markdown",
   "metadata": {},
   "source": [
    "Build Baseline XGBoost Model using model parameters and best 'num_boost_rounds' from cv."
   ]
  },
  {
   "cell_type": "code",
   "execution_count": 73,
   "metadata": {},
   "outputs": [],
   "source": [
    "# Build xgb model\n",
    "\n",
    "xgb_def = xgb.train(params = xgb_params,\n",
    "                   num_boost_round = nrounds,\n",
    "                   dtrain = dtrain)"
   ]
  },
  {
   "cell_type": "markdown",
   "metadata": {},
   "source": [
    "Evaluate Model Performance Using Testing Dataset"
   ]
  },
  {
   "cell_type": "code",
   "execution_count": 74,
   "metadata": {},
   "outputs": [
    {
     "name": "stdout",
     "output_type": "stream",
     "text": [
      "MAE: 161.75041474925249\n",
      "RMSE: 226.5857758384587\n",
      "R^2 Score: 0.9656716589179385\n"
     ]
    }
   ],
   "source": [
    "# Evaluate Default Model Performance Using test set\n",
    "\n",
    "yhat = xgb_def.predict(dtest)\n",
    "print('MAE: ' + str(mean_absolute_error(y_test, yhat)))\n",
    "print('RMSE: '+ str(math.sqrt(mean_squared_error(y_test, yhat))))\n",
    "print('R^2 Score: ' + str(r2_score(y_test, yhat)))\n"
   ]
  },
  {
   "cell_type": "markdown",
   "metadata": {},
   "source": [
    "### Perform Randomized Grid Search for Hyper Parameter Tuning"
   ]
  },
  {
   "cell_type": "code",
   "execution_count": 97,
   "metadata": {},
   "outputs": [],
   "source": [
    "# Define and setup Randomized Grid Search for Hyperparaneter Tuning\n",
    "\n",
    "grid_params = {'max_depth': [6, 8, 10, 12],\n",
    "               'min_child_weight': [1, 3, 5],\n",
    "               'learning_rate': [0.1, 0.3, 0.5, 0.7], #eta\n",
    "               'gamma': [0.5, 1, 1.5, 2, 5],\n",
    "               'subsample': [0.6, 0.8, 1.0],\n",
    "               'colsample_bytree': [0.6, 0.8, 1.0]\n",
    "              }\n",
    "\n",
    "xgb_tune = xgb.XGBRegressor(objective = 'reg:squarederror',\n",
    "                            eval_metric= 'rmse',\n",
    "                            n_estimators = 500,\n",
    "                            seed = 2020)\n",
    "\n",
    "rkf = RepeatedKFold(n_splits=5, random_state = 2020)\n",
    "\n",
    "random_search = RandomizedSearchCV(xgb_tune, \n",
    "                                   param_distributions=grid_params, \n",
    "                                   n_iter=6, \n",
    "                                   scoring='neg_root_mean_squared_error', \n",
    "                                   n_jobs=4, \n",
    "                                   cv=rkf.split(X_trains,y_train), \n",
    "                                   verbose=3, \n",
    "                                   random_state=2020)"
   ]
  },
  {
   "cell_type": "code",
   "execution_count": 108,
   "metadata": {},
   "outputs": [
    {
     "data": {
      "text/plain": [
       "{'subsample': 1.0,\n",
       " 'min_child_weight': 3,\n",
       " 'max_depth': 12,\n",
       " 'learning_rate': 0.5,\n",
       " 'gamma': 2,\n",
       " 'colsample_bytree': 1.0}"
      ]
     },
     "execution_count": 108,
     "metadata": {},
     "output_type": "execute_result"
    }
   ],
   "source": [
    "# Run randomized Grid Search\n",
    "#random_search.fit(X_trains, y_train)\n",
    "\n",
    "# Show best parameters from randomized grid search\n",
    "best_params = random_search.best_params_\n",
    "best_params"
   ]
  },
  {
   "cell_type": "code",
   "execution_count": 139,
   "metadata": {
    "collapsed": true
   },
   "outputs": [
    {
     "data": {
      "text/plain": [
       "{'mean_fit_time': array([201.9378663 , 279.16020909, 328.21432853, 221.4280679 ,\n",
       "        437.50902885, 201.28729044]),\n",
       " 'std_fit_time': array([ 3.31882047,  4.38116966,  9.216144  , 10.86356191,  8.97521798,\n",
       "        24.59566986]),\n",
       " 'mean_score_time': array([0.78388337, 5.92669901, 1.75349017, 0.85842921, 6.31122788,\n",
       "        1.57683342]),\n",
       " 'std_score_time': array([0.05372127, 0.40095602, 0.10890109, 0.07005799, 0.41852387,\n",
       "        0.314575  ]),\n",
       " 'param_subsample': masked_array(data=[0.6, 1.0, 0.6, 1.0, 1.0, 0.8],\n",
       "              mask=[False, False, False, False, False, False],\n",
       "        fill_value='?',\n",
       "             dtype=object),\n",
       " 'param_min_child_weight': masked_array(data=[1, 3, 5, 3, 3, 3],\n",
       "              mask=[False, False, False, False, False, False],\n",
       "        fill_value='?',\n",
       "             dtype=object),\n",
       " 'param_max_depth': masked_array(data=[6, 12, 8, 6, 12, 8],\n",
       "              mask=[False, False, False, False, False, False],\n",
       "        fill_value='?',\n",
       "             dtype=object),\n",
       " 'param_learning_rate': masked_array(data=[0.1, 0.5, 0.7, 0.5, 0.5, 0.1],\n",
       "              mask=[False, False, False, False, False, False],\n",
       "        fill_value='?',\n",
       "             dtype=object),\n",
       " 'param_gamma': masked_array(data=[1, 1.5, 5, 1, 2, 1],\n",
       "              mask=[False, False, False, False, False, False],\n",
       "        fill_value='?',\n",
       "             dtype=object),\n",
       " 'param_colsample_bytree': masked_array(data=[0.8, 0.6, 1.0, 1.0, 1.0, 0.6],\n",
       "              mask=[False, False, False, False, False, False],\n",
       "        fill_value='?',\n",
       "             dtype=object),\n",
       " 'params': [{'subsample': 0.6,\n",
       "   'min_child_weight': 1,\n",
       "   'max_depth': 6,\n",
       "   'learning_rate': 0.1,\n",
       "   'gamma': 1,\n",
       "   'colsample_bytree': 0.8},\n",
       "  {'subsample': 1.0,\n",
       "   'min_child_weight': 3,\n",
       "   'max_depth': 12,\n",
       "   'learning_rate': 0.5,\n",
       "   'gamma': 1.5,\n",
       "   'colsample_bytree': 0.6},\n",
       "  {'subsample': 0.6,\n",
       "   'min_child_weight': 5,\n",
       "   'max_depth': 8,\n",
       "   'learning_rate': 0.7,\n",
       "   'gamma': 5,\n",
       "   'colsample_bytree': 1.0},\n",
       "  {'subsample': 1.0,\n",
       "   'min_child_weight': 3,\n",
       "   'max_depth': 6,\n",
       "   'learning_rate': 0.5,\n",
       "   'gamma': 1,\n",
       "   'colsample_bytree': 1.0},\n",
       "  {'subsample': 1.0,\n",
       "   'min_child_weight': 3,\n",
       "   'max_depth': 12,\n",
       "   'gamma': 2,\n",
       "   'colsample_bytree': 1.0,\n",
       "   'eta': 0.5},\n",
       "  {'subsample': 0.8,\n",
       "   'min_child_weight': 3,\n",
       "   'max_depth': 8,\n",
       "   'learning_rate': 0.1,\n",
       "   'gamma': 1,\n",
       "   'colsample_bytree': 0.6}],\n",
       " 'split0_test_score': array([-261.40496551, -236.53325204, -265.60954039, -241.85154158,\n",
       "        -232.33253824, -241.12674885]),\n",
       " 'split1_test_score': array([-263.52066007, -241.54088385, -276.78630964, -245.61223873,\n",
       "        -242.06836821, -243.42957039]),\n",
       " 'split2_test_score': array([-267.6164156 , -243.66382551, -269.30197789, -249.23581873,\n",
       "        -240.05509748, -246.49093547]),\n",
       " 'split3_test_score': array([-262.39511734, -233.41341934, -267.73055018, -242.70472362,\n",
       "        -234.55847622, -239.52373712]),\n",
       " 'split4_test_score': array([-263.11400475, -235.27635505, -270.1134321 , -242.27048767,\n",
       "        -236.69869168, -243.10598273]),\n",
       " 'split5_test_score': array([-260.93449502, -238.77130857, -268.83139274, -244.05340842,\n",
       "        -236.77080515, -240.46457678]),\n",
       " 'split6_test_score': array([-266.40340998, -239.53325717, -275.50628546, -246.78145837,\n",
       "        -240.35175104, -245.97908832]),\n",
       " 'split7_test_score': array([-267.6775194 , -246.90709841, -276.25125192, -247.43069645,\n",
       "        -244.05916058, -245.87864327]),\n",
       " 'split8_test_score': array([-259.55594159, -232.47323084, -268.24419692, -239.53942894,\n",
       "        -236.72289854, -237.77489256]),\n",
       " 'split9_test_score': array([-262.17436545, -236.3139578 , -269.85696139, -243.3163233 ,\n",
       "        -234.04255026, -239.3572469 ]),\n",
       " 'split10_test_score': array([-268.93128929, -246.63517658, -273.86025758, -251.72314376,\n",
       "        -238.7044399 , -246.55517759]),\n",
       " 'split11_test_score': array([-259.11326084, -237.26261976, -266.19417574, -240.7409122 ,\n",
       "        -232.3650779 , -238.55917751]),\n",
       " 'split12_test_score': array([-263.44741028, -234.55238655, -270.42780983, -240.2847423 ,\n",
       "        -233.69812808, -241.72118697]),\n",
       " 'split13_test_score': array([-264.00275833, -240.40889844, -271.0680745 , -243.52586176,\n",
       "        -234.66319225, -242.04169867]),\n",
       " 'split14_test_score': array([-260.54703816, -236.46917096, -270.17797356, -241.62371356,\n",
       "        -235.01159589, -240.51766859]),\n",
       " 'split15_test_score': array([-263.71757606, -235.90489563, -265.99943508, -241.40688308,\n",
       "        -231.89870022, -242.42859206]),\n",
       " 'split16_test_score': array([-264.80149078, -237.03400072, -270.06667716, -243.54881038,\n",
       "        -235.60169268, -243.41791444]),\n",
       " 'split17_test_score': array([-262.83904704, -237.33927817, -270.16246121, -243.68314915,\n",
       "        -235.79769336, -241.6888928 ]),\n",
       " 'split18_test_score': array([-257.68903835, -234.60435151, -268.34903589, -239.38635083,\n",
       "        -229.00360605, -238.54878484]),\n",
       " 'split19_test_score': array([-265.05243349, -237.98409571, -270.36273009, -245.25691031,\n",
       "        -239.42730229, -242.63322898]),\n",
       " 'split20_test_score': array([-264.34016178, -239.98329102, -269.92920618, -245.90002928,\n",
       "        -236.81211795, -243.60283342]),\n",
       " 'split21_test_score': array([-266.32058206, -241.5849847 , -268.82814198, -244.31094372,\n",
       "        -236.08742134, -243.38283264]),\n",
       " 'split22_test_score': array([-262.85672459, -239.2123772 , -268.72968634, -241.81703053,\n",
       "        -237.83255704, -242.53011431]),\n",
       " 'split23_test_score': array([-261.60525785, -233.93741687, -270.21974039, -240.47213967,\n",
       "        -233.54479722, -240.95622469]),\n",
       " 'split24_test_score': array([-263.7151072 , -236.4965997 , -271.77073761, -245.65222293,\n",
       "        -238.16587155, -243.66072   ]),\n",
       " 'split25_test_score': array([-261.32084563, -237.38638663, -267.43728992, -240.64211792,\n",
       "        -229.09162298, -240.41267724]),\n",
       " 'split26_test_score': array([-265.85938479, -236.73898643, -270.4344061 , -244.00657768,\n",
       "        -234.30102803, -242.64314051]),\n",
       " 'split27_test_score': array([-260.96378779, -231.07652775, -267.95217257, -239.30765404,\n",
       "        -233.1996001 , -238.75959947]),\n",
       " 'split28_test_score': array([-263.33959993, -237.51509219, -268.63217304, -244.33496704,\n",
       "        -236.55457427, -242.58382895]),\n",
       " 'split29_test_score': array([-264.99720729, -241.38204825, -270.9926076 , -244.79449654,\n",
       "        -241.48750827, -243.63665719]),\n",
       " 'split30_test_score': array([-263.61983226, -233.87159197, -272.81915782, -242.61190701,\n",
       "        -236.1489168 , -241.91537977]),\n",
       " 'split31_test_score': array([-258.27635238, -242.27153317, -272.06164384, -240.72149742,\n",
       "        -234.6760779 , -239.82941708]),\n",
       " 'split32_test_score': array([-263.60825619, -239.21587178, -274.11883642, -243.05219876,\n",
       "        -238.57072156, -243.13487782]),\n",
       " 'split33_test_score': array([-261.39314584, -238.61016601, -269.27590586, -243.25325455,\n",
       "        -232.81392075, -242.03690669]),\n",
       " 'split34_test_score': array([-268.06679171, -242.7627853 , -273.36689516, -246.63650151,\n",
       "        -237.12693545, -246.79617816]),\n",
       " 'split35_test_score': array([-263.91074395, -236.71752002, -266.63473934, -245.58052967,\n",
       "        -234.6479756 , -242.59904035]),\n",
       " 'split36_test_score': array([-266.0602246 , -242.4777505 , -277.93936208, -243.20695396,\n",
       "        -239.96106923, -244.38046716]),\n",
       " 'split37_test_score': array([-262.40042859, -240.79591679, -270.64553796, -241.73071678,\n",
       "        -233.38963511, -239.51138482]),\n",
       " 'split38_test_score': array([-262.72469393, -237.85801226, -272.62365306, -243.35783465,\n",
       "        -235.13682246, -242.62290102]),\n",
       " 'split39_test_score': array([-262.13615279, -239.73818651, -274.67811745, -243.7381836 ,\n",
       "        -237.67237456, -241.82240917]),\n",
       " 'split40_test_score': array([-259.93144144, -237.63551347, -277.61197438, -242.36113427,\n",
       "        -235.49968031, -240.0260376 ]),\n",
       " 'split41_test_score': array([-259.33754482, -241.23718596, -270.84229103, -242.93108611,\n",
       "        -236.45527627, -240.36109167]),\n",
       " 'split42_test_score': array([-266.15219621, -241.45542137, -271.76472396, -243.81901022,\n",
       "        -239.11174051, -243.75959823]),\n",
       " 'split43_test_score': array([-266.82964549, -240.76321003, -271.52543717, -244.82034517,\n",
       "        -236.13046459, -243.3729752 ]),\n",
       " 'split44_test_score': array([-261.24108331, -238.85391819, -270.02964191, -242.15952769,\n",
       "        -234.01097332, -241.16581772]),\n",
       " 'split45_test_score': array([-264.35141798, -238.02758195, -273.81983052, -243.47756156,\n",
       "        -235.93576042, -243.52831165]),\n",
       " 'split46_test_score': array([-260.05617209, -239.26843398, -272.74736538, -243.20905282,\n",
       "        -236.71772905, -239.06891798]),\n",
       " 'split47_test_score': array([-262.63339168, -238.31845242, -269.02607074, -239.6953375 ,\n",
       "        -233.55961532, -240.88983252]),\n",
       " 'split48_test_score': array([-260.67418565, -234.59677616, -268.2393523 , -240.07839286,\n",
       "        -230.65251536, -240.20849137]),\n",
       " 'split49_test_score': array([-264.29292036, -240.25671474, -272.32994262, -245.61825051,\n",
       "        -238.2895843 , -243.18085137]),\n",
       " 'mean_test_score': array([-263.15907035, -238.45335432, -270.8385434 , -243.34548118,\n",
       "        -235.94833307, -242.07246521]),\n",
       " 'std_test_score': array([2.57954811, 3.2659582 , 2.89683076, 2.49183121, 3.06599909,\n",
       "        2.1602831 ]),\n",
       " 'rank_test_score': array([5, 2, 6, 4, 1, 3])}"
      ]
     },
     "execution_count": 139,
     "metadata": {},
     "output_type": "execute_result"
    }
   ],
   "source": [
    "\n",
    "pd.DataFrame(random_search.cv_results_).to_csv(\"cv_results.csv\", index = False)\n",
    "random_search.cv_results_"
   ]
  },
  {
   "cell_type": "code",
   "execution_count": 112,
   "metadata": {
    "collapsed": true
   },
   "outputs": [
    {
     "name": "stdout",
     "output_type": "stream",
     "text": [
      "[0]\ttrain-rmse:2376.46+1.72919\ttest-rmse:2377.02+5.15006\n",
      "[10]\ttrain-rmse:248.786+4.40851\ttest-rmse:289.97+2.36988\n",
      "[20]\ttrain-rmse:202.145+1.1928\ttest-rmse:264.523+2.58409\n",
      "[30]\ttrain-rmse:174.335+0.952029\ttest-rmse:254.02+2.64835\n",
      "[40]\ttrain-rmse:154.932+1.66881\ttest-rmse:249.28+2.95155\n",
      "[50]\ttrain-rmse:139.152+2.37525\ttest-rmse:245.687+2.57854\n",
      "[60]\ttrain-rmse:125.45+1.54585\ttest-rmse:243.258+2.73541\n",
      "[70]\ttrain-rmse:112.879+2.02078\ttest-rmse:241.314+2.66867\n",
      "[80]\ttrain-rmse:103.865+2.35464\ttest-rmse:240.483+2.86838\n",
      "[90]\ttrain-rmse:94.6232+1.8332\ttest-rmse:239.331+2.95393\n",
      "[100]\ttrain-rmse:87.7338+1.68329\ttest-rmse:238.678+3.06755\n",
      "[110]\ttrain-rmse:80.9719+0.970344\ttest-rmse:238.039+3.30218\n",
      "[120]\ttrain-rmse:75.226+0.88417\ttest-rmse:237.632+3.44306\n",
      "[130]\ttrain-rmse:70.0264+1.34704\ttest-rmse:237.376+3.39376\n",
      "[140]\ttrain-rmse:65.6873+1.23354\ttest-rmse:237.041+3.43836\n",
      "[150]\ttrain-rmse:61.5009+1.06929\ttest-rmse:236.83+3.46471\n",
      "[160]\ttrain-rmse:58.0729+0.784479\ttest-rmse:236.736+3.52009\n",
      "[170]\ttrain-rmse:55.3133+1.16442\ttest-rmse:236.681+3.53848\n",
      "[180]\ttrain-rmse:52.6639+1.24779\ttest-rmse:236.637+3.5247\n",
      "[190]\ttrain-rmse:50.1822+1.28724\ttest-rmse:236.609+3.53798\n",
      "[200]\ttrain-rmse:48.0172+1.12573\ttest-rmse:236.477+3.58935\n",
      "[210]\ttrain-rmse:45.9225+1.12129\ttest-rmse:236.479+3.57158\n",
      "[220]\ttrain-rmse:44.3226+1.09726\ttest-rmse:236.451+3.52986\n"
     ]
    },
    {
     "ename": "TypeError",
     "evalue": "cannot do label indexing on <class 'pandas.core.indexes.base.Index'> with these indexers [0] of <class 'int'>",
     "output_type": "error",
     "traceback": [
      "\u001b[1;31m---------------------------------------------------------------------------\u001b[0m",
      "\u001b[1;31mTypeError\u001b[0m                                 Traceback (most recent call last)",
      "\u001b[1;32m<ipython-input-112-3d6045c0f85c>\u001b[0m in \u001b[0;36m<module>\u001b[1;34m\u001b[0m\n\u001b[0;32m     16\u001b[0m \u001b[1;31m# Get best num_boost_round\u001b[0m\u001b[1;33m\u001b[0m\u001b[1;33m\u001b[0m\u001b[1;33m\u001b[0m\u001b[0m\n\u001b[0;32m     17\u001b[0m \u001b[0mcv_tuned\u001b[0m\u001b[1;33m[\u001b[0m\u001b[0mcv_tuned\u001b[0m\u001b[1;33m[\u001b[0m\u001b[1;34m'test-rmse-mean'\u001b[0m\u001b[1;33m]\u001b[0m \u001b[1;33m==\u001b[0m \u001b[0mcv_tuned\u001b[0m\u001b[1;33m[\u001b[0m\u001b[1;34m'test-rmse-mean'\u001b[0m\u001b[1;33m]\u001b[0m\u001b[1;33m.\u001b[0m\u001b[0mmin\u001b[0m\u001b[1;33m(\u001b[0m\u001b[1;33m)\u001b[0m\u001b[1;33m]\u001b[0m\u001b[1;33m\u001b[0m\u001b[1;33m\u001b[0m\u001b[0m\n\u001b[1;32m---> 18\u001b[1;33m \u001b[0mnrounds\u001b[0m \u001b[1;33m=\u001b[0m \u001b[0mcv_tuned\u001b[0m\u001b[1;33m.\u001b[0m\u001b[0mloc\u001b[0m\u001b[1;33m[\u001b[0m\u001b[0mcv_tuned\u001b[0m\u001b[1;33m[\u001b[0m\u001b[1;34m'test-rmse-mean'\u001b[0m\u001b[1;33m]\u001b[0m \u001b[1;33m==\u001b[0m \u001b[0mcv_tuned\u001b[0m\u001b[1;33m[\u001b[0m\u001b[1;34m'test-rmse-mean'\u001b[0m\u001b[1;33m]\u001b[0m\u001b[1;33m.\u001b[0m\u001b[0mmin\u001b[0m\u001b[1;33m(\u001b[0m\u001b[1;33m)\u001b[0m\u001b[1;33m,\u001b[0m \u001b[1;36m0\u001b[0m\u001b[1;33m]\u001b[0m\u001b[1;33m\u001b[0m\u001b[1;33m\u001b[0m\u001b[0m\n\u001b[0m",
      "\u001b[1;32m~\\Anaconda3\\lib\\site-packages\\pandas\\core\\indexing.py\u001b[0m in \u001b[0;36m__getitem__\u001b[1;34m(self, key)\u001b[0m\n\u001b[0;32m   1416\u001b[0m                 \u001b[1;32mexcept\u001b[0m \u001b[1;33m(\u001b[0m\u001b[0mKeyError\u001b[0m\u001b[1;33m,\u001b[0m \u001b[0mIndexError\u001b[0m\u001b[1;33m,\u001b[0m \u001b[0mAttributeError\u001b[0m\u001b[1;33m)\u001b[0m\u001b[1;33m:\u001b[0m\u001b[1;33m\u001b[0m\u001b[1;33m\u001b[0m\u001b[0m\n\u001b[0;32m   1417\u001b[0m                     \u001b[1;32mpass\u001b[0m\u001b[1;33m\u001b[0m\u001b[1;33m\u001b[0m\u001b[0m\n\u001b[1;32m-> 1418\u001b[1;33m             \u001b[1;32mreturn\u001b[0m \u001b[0mself\u001b[0m\u001b[1;33m.\u001b[0m\u001b[0m_getitem_tuple\u001b[0m\u001b[1;33m(\u001b[0m\u001b[0mkey\u001b[0m\u001b[1;33m)\u001b[0m\u001b[1;33m\u001b[0m\u001b[1;33m\u001b[0m\u001b[0m\n\u001b[0m\u001b[0;32m   1419\u001b[0m         \u001b[1;32melse\u001b[0m\u001b[1;33m:\u001b[0m\u001b[1;33m\u001b[0m\u001b[1;33m\u001b[0m\u001b[0m\n\u001b[0;32m   1420\u001b[0m             \u001b[1;31m# we by definition only have the 0th axis\u001b[0m\u001b[1;33m\u001b[0m\u001b[1;33m\u001b[0m\u001b[1;33m\u001b[0m\u001b[0m\n",
      "\u001b[1;32m~\\Anaconda3\\lib\\site-packages\\pandas\\core\\indexing.py\u001b[0m in \u001b[0;36m_getitem_tuple\u001b[1;34m(self, tup)\u001b[0m\n\u001b[0;32m    803\u001b[0m     \u001b[1;32mdef\u001b[0m \u001b[0m_getitem_tuple\u001b[0m\u001b[1;33m(\u001b[0m\u001b[0mself\u001b[0m\u001b[1;33m,\u001b[0m \u001b[0mtup\u001b[0m\u001b[1;33m)\u001b[0m\u001b[1;33m:\u001b[0m\u001b[1;33m\u001b[0m\u001b[1;33m\u001b[0m\u001b[0m\n\u001b[0;32m    804\u001b[0m         \u001b[1;32mtry\u001b[0m\u001b[1;33m:\u001b[0m\u001b[1;33m\u001b[0m\u001b[1;33m\u001b[0m\u001b[0m\n\u001b[1;32m--> 805\u001b[1;33m             \u001b[1;32mreturn\u001b[0m \u001b[0mself\u001b[0m\u001b[1;33m.\u001b[0m\u001b[0m_getitem_lowerdim\u001b[0m\u001b[1;33m(\u001b[0m\u001b[0mtup\u001b[0m\u001b[1;33m)\u001b[0m\u001b[1;33m\u001b[0m\u001b[1;33m\u001b[0m\u001b[0m\n\u001b[0m\u001b[0;32m    806\u001b[0m         \u001b[1;32mexcept\u001b[0m \u001b[0mIndexingError\u001b[0m\u001b[1;33m:\u001b[0m\u001b[1;33m\u001b[0m\u001b[1;33m\u001b[0m\u001b[0m\n\u001b[0;32m    807\u001b[0m             \u001b[1;32mpass\u001b[0m\u001b[1;33m\u001b[0m\u001b[1;33m\u001b[0m\u001b[0m\n",
      "\u001b[1;32m~\\Anaconda3\\lib\\site-packages\\pandas\\core\\indexing.py\u001b[0m in \u001b[0;36m_getitem_lowerdim\u001b[1;34m(self, tup)\u001b[0m\n\u001b[0;32m    927\u001b[0m         \u001b[1;32mfor\u001b[0m \u001b[0mi\u001b[0m\u001b[1;33m,\u001b[0m \u001b[0mkey\u001b[0m \u001b[1;32min\u001b[0m \u001b[0menumerate\u001b[0m\u001b[1;33m(\u001b[0m\u001b[0mtup\u001b[0m\u001b[1;33m)\u001b[0m\u001b[1;33m:\u001b[0m\u001b[1;33m\u001b[0m\u001b[1;33m\u001b[0m\u001b[0m\n\u001b[0;32m    928\u001b[0m             \u001b[1;32mif\u001b[0m \u001b[0mis_label_like\u001b[0m\u001b[1;33m(\u001b[0m\u001b[0mkey\u001b[0m\u001b[1;33m)\u001b[0m \u001b[1;32mor\u001b[0m \u001b[0misinstance\u001b[0m\u001b[1;33m(\u001b[0m\u001b[0mkey\u001b[0m\u001b[1;33m,\u001b[0m \u001b[0mtuple\u001b[0m\u001b[1;33m)\u001b[0m\u001b[1;33m:\u001b[0m\u001b[1;33m\u001b[0m\u001b[1;33m\u001b[0m\u001b[0m\n\u001b[1;32m--> 929\u001b[1;33m                 \u001b[0msection\u001b[0m \u001b[1;33m=\u001b[0m \u001b[0mself\u001b[0m\u001b[1;33m.\u001b[0m\u001b[0m_getitem_axis\u001b[0m\u001b[1;33m(\u001b[0m\u001b[0mkey\u001b[0m\u001b[1;33m,\u001b[0m \u001b[0maxis\u001b[0m\u001b[1;33m=\u001b[0m\u001b[0mi\u001b[0m\u001b[1;33m)\u001b[0m\u001b[1;33m\u001b[0m\u001b[1;33m\u001b[0m\u001b[0m\n\u001b[0m\u001b[0;32m    930\u001b[0m \u001b[1;33m\u001b[0m\u001b[0m\n\u001b[0;32m    931\u001b[0m                 \u001b[1;31m# we have yielded a scalar ?\u001b[0m\u001b[1;33m\u001b[0m\u001b[1;33m\u001b[0m\u001b[1;33m\u001b[0m\u001b[0m\n",
      "\u001b[1;32m~\\Anaconda3\\lib\\site-packages\\pandas\\core\\indexing.py\u001b[0m in \u001b[0;36m_getitem_axis\u001b[1;34m(self, key, axis)\u001b[0m\n\u001b[0;32m   1847\u001b[0m \u001b[1;33m\u001b[0m\u001b[0m\n\u001b[0;32m   1848\u001b[0m         \u001b[1;31m# fall thru to straight lookup\u001b[0m\u001b[1;33m\u001b[0m\u001b[1;33m\u001b[0m\u001b[1;33m\u001b[0m\u001b[0m\n\u001b[1;32m-> 1849\u001b[1;33m         \u001b[0mself\u001b[0m\u001b[1;33m.\u001b[0m\u001b[0m_validate_key\u001b[0m\u001b[1;33m(\u001b[0m\u001b[0mkey\u001b[0m\u001b[1;33m,\u001b[0m \u001b[0maxis\u001b[0m\u001b[1;33m)\u001b[0m\u001b[1;33m\u001b[0m\u001b[1;33m\u001b[0m\u001b[0m\n\u001b[0m\u001b[0;32m   1850\u001b[0m         \u001b[1;32mreturn\u001b[0m \u001b[0mself\u001b[0m\u001b[1;33m.\u001b[0m\u001b[0m_get_label\u001b[0m\u001b[1;33m(\u001b[0m\u001b[0mkey\u001b[0m\u001b[1;33m,\u001b[0m \u001b[0maxis\u001b[0m\u001b[1;33m=\u001b[0m\u001b[0maxis\u001b[0m\u001b[1;33m)\u001b[0m\u001b[1;33m\u001b[0m\u001b[1;33m\u001b[0m\u001b[0m\n\u001b[0;32m   1851\u001b[0m \u001b[1;33m\u001b[0m\u001b[0m\n",
      "\u001b[1;32m~\\Anaconda3\\lib\\site-packages\\pandas\\core\\indexing.py\u001b[0m in \u001b[0;36m_validate_key\u001b[1;34m(self, key, axis)\u001b[0m\n\u001b[0;32m   1723\u001b[0m \u001b[1;33m\u001b[0m\u001b[0m\n\u001b[0;32m   1724\u001b[0m         \u001b[1;32mif\u001b[0m \u001b[1;32mnot\u001b[0m \u001b[0mis_list_like_indexer\u001b[0m\u001b[1;33m(\u001b[0m\u001b[0mkey\u001b[0m\u001b[1;33m)\u001b[0m\u001b[1;33m:\u001b[0m\u001b[1;33m\u001b[0m\u001b[1;33m\u001b[0m\u001b[0m\n\u001b[1;32m-> 1725\u001b[1;33m             \u001b[0mself\u001b[0m\u001b[1;33m.\u001b[0m\u001b[0m_convert_scalar_indexer\u001b[0m\u001b[1;33m(\u001b[0m\u001b[0mkey\u001b[0m\u001b[1;33m,\u001b[0m \u001b[0maxis\u001b[0m\u001b[1;33m)\u001b[0m\u001b[1;33m\u001b[0m\u001b[1;33m\u001b[0m\u001b[0m\n\u001b[0m\u001b[0;32m   1726\u001b[0m \u001b[1;33m\u001b[0m\u001b[0m\n\u001b[0;32m   1727\u001b[0m     \u001b[1;32mdef\u001b[0m \u001b[0m_is_scalar_access\u001b[0m\u001b[1;33m(\u001b[0m\u001b[0mself\u001b[0m\u001b[1;33m,\u001b[0m \u001b[0mkey\u001b[0m\u001b[1;33m:\u001b[0m \u001b[0mTuple\u001b[0m\u001b[1;33m)\u001b[0m\u001b[1;33m:\u001b[0m\u001b[1;33m\u001b[0m\u001b[1;33m\u001b[0m\u001b[0m\n",
      "\u001b[1;32m~\\Anaconda3\\lib\\site-packages\\pandas\\core\\indexing.py\u001b[0m in \u001b[0;36m_convert_scalar_indexer\u001b[1;34m(self, key, axis)\u001b[0m\n\u001b[0;32m    272\u001b[0m         \u001b[0max\u001b[0m \u001b[1;33m=\u001b[0m \u001b[0mself\u001b[0m\u001b[1;33m.\u001b[0m\u001b[0mobj\u001b[0m\u001b[1;33m.\u001b[0m\u001b[0m_get_axis\u001b[0m\u001b[1;33m(\u001b[0m\u001b[0mmin\u001b[0m\u001b[1;33m(\u001b[0m\u001b[0maxis\u001b[0m\u001b[1;33m,\u001b[0m \u001b[0mself\u001b[0m\u001b[1;33m.\u001b[0m\u001b[0mndim\u001b[0m \u001b[1;33m-\u001b[0m \u001b[1;36m1\u001b[0m\u001b[1;33m)\u001b[0m\u001b[1;33m)\u001b[0m\u001b[1;33m\u001b[0m\u001b[1;33m\u001b[0m\u001b[0m\n\u001b[0;32m    273\u001b[0m         \u001b[1;31m# a scalar\u001b[0m\u001b[1;33m\u001b[0m\u001b[1;33m\u001b[0m\u001b[1;33m\u001b[0m\u001b[0m\n\u001b[1;32m--> 274\u001b[1;33m         \u001b[1;32mreturn\u001b[0m \u001b[0max\u001b[0m\u001b[1;33m.\u001b[0m\u001b[0m_convert_scalar_indexer\u001b[0m\u001b[1;33m(\u001b[0m\u001b[0mkey\u001b[0m\u001b[1;33m,\u001b[0m \u001b[0mkind\u001b[0m\u001b[1;33m=\u001b[0m\u001b[0mself\u001b[0m\u001b[1;33m.\u001b[0m\u001b[0mname\u001b[0m\u001b[1;33m)\u001b[0m\u001b[1;33m\u001b[0m\u001b[1;33m\u001b[0m\u001b[0m\n\u001b[0m\u001b[0;32m    275\u001b[0m \u001b[1;33m\u001b[0m\u001b[0m\n\u001b[0;32m    276\u001b[0m     \u001b[1;32mdef\u001b[0m \u001b[0m_convert_slice_indexer\u001b[0m\u001b[1;33m(\u001b[0m\u001b[0mself\u001b[0m\u001b[1;33m,\u001b[0m \u001b[0mkey\u001b[0m\u001b[1;33m,\u001b[0m \u001b[0maxis\u001b[0m\u001b[1;33m:\u001b[0m \u001b[0mint\u001b[0m\u001b[1;33m)\u001b[0m\u001b[1;33m:\u001b[0m\u001b[1;33m\u001b[0m\u001b[1;33m\u001b[0m\u001b[0m\n",
      "\u001b[1;32m~\\Anaconda3\\lib\\site-packages\\pandas\\core\\indexes\\base.py\u001b[0m in \u001b[0;36m_convert_scalar_indexer\u001b[1;34m(self, key, kind)\u001b[0m\n\u001b[0;32m   3136\u001b[0m             \u001b[1;32melif\u001b[0m \u001b[0mkind\u001b[0m \u001b[1;32min\u001b[0m \u001b[1;33m[\u001b[0m\u001b[1;34m\"loc\"\u001b[0m\u001b[1;33m]\u001b[0m \u001b[1;32mand\u001b[0m \u001b[0mis_integer\u001b[0m\u001b[1;33m(\u001b[0m\u001b[0mkey\u001b[0m\u001b[1;33m)\u001b[0m\u001b[1;33m:\u001b[0m\u001b[1;33m\u001b[0m\u001b[1;33m\u001b[0m\u001b[0m\n\u001b[0;32m   3137\u001b[0m                 \u001b[1;32mif\u001b[0m \u001b[1;32mnot\u001b[0m \u001b[0mself\u001b[0m\u001b[1;33m.\u001b[0m\u001b[0mholds_integer\u001b[0m\u001b[1;33m(\u001b[0m\u001b[1;33m)\u001b[0m\u001b[1;33m:\u001b[0m\u001b[1;33m\u001b[0m\u001b[1;33m\u001b[0m\u001b[0m\n\u001b[1;32m-> 3138\u001b[1;33m                     \u001b[1;32mreturn\u001b[0m \u001b[0mself\u001b[0m\u001b[1;33m.\u001b[0m\u001b[0m_invalid_indexer\u001b[0m\u001b[1;33m(\u001b[0m\u001b[1;34m\"label\"\u001b[0m\u001b[1;33m,\u001b[0m \u001b[0mkey\u001b[0m\u001b[1;33m)\u001b[0m\u001b[1;33m\u001b[0m\u001b[1;33m\u001b[0m\u001b[0m\n\u001b[0m\u001b[0;32m   3139\u001b[0m \u001b[1;33m\u001b[0m\u001b[0m\n\u001b[0;32m   3140\u001b[0m         \u001b[1;32mreturn\u001b[0m \u001b[0mkey\u001b[0m\u001b[1;33m\u001b[0m\u001b[1;33m\u001b[0m\u001b[0m\n",
      "\u001b[1;32m~\\Anaconda3\\lib\\site-packages\\pandas\\core\\indexes\\base.py\u001b[0m in \u001b[0;36m_invalid_indexer\u001b[1;34m(self, form, key)\u001b[0m\n\u001b[0;32m   3338\u001b[0m             \u001b[1;34m\"cannot do {form} indexing on {klass} with these \"\u001b[0m\u001b[1;33m\u001b[0m\u001b[1;33m\u001b[0m\u001b[0m\n\u001b[0;32m   3339\u001b[0m             \"indexers [{key}] of {kind}\".format(\n\u001b[1;32m-> 3340\u001b[1;33m                 \u001b[0mform\u001b[0m\u001b[1;33m=\u001b[0m\u001b[0mform\u001b[0m\u001b[1;33m,\u001b[0m \u001b[0mklass\u001b[0m\u001b[1;33m=\u001b[0m\u001b[0mtype\u001b[0m\u001b[1;33m(\u001b[0m\u001b[0mself\u001b[0m\u001b[1;33m)\u001b[0m\u001b[1;33m,\u001b[0m \u001b[0mkey\u001b[0m\u001b[1;33m=\u001b[0m\u001b[0mkey\u001b[0m\u001b[1;33m,\u001b[0m \u001b[0mkind\u001b[0m\u001b[1;33m=\u001b[0m\u001b[0mtype\u001b[0m\u001b[1;33m(\u001b[0m\u001b[0mkey\u001b[0m\u001b[1;33m)\u001b[0m\u001b[1;33m\u001b[0m\u001b[1;33m\u001b[0m\u001b[0m\n\u001b[0m\u001b[0;32m   3341\u001b[0m             )\n\u001b[0;32m   3342\u001b[0m         )\n",
      "\u001b[1;31mTypeError\u001b[0m: cannot do label indexing on <class 'pandas.core.indexes.base.Index'> with these indexers [0] of <class 'int'>"
     ]
    }
   ],
   "source": [
    "# Modify best params dict to fit to native xgb format\n",
    "best_params['eta'] = best_params['learning_rate']\n",
    "del best_params['learning_rate']\n",
    "\n",
    "# Fit xgb model with best parameters to find best 'num_boost_round' using cv\n",
    "cv_tuned = xgb.cv(objective = 'reg:squarederror',\n",
    "                  eval_metric= 'rmse',\n",
    "                  best_params, \n",
    "                  dtrain, \n",
    "                  num_boost_round=500, \n",
    "                  nfold=5, \n",
    "                  seed=2020, \n",
    "                  stratified=False,\n",
    "                  early_stopping_rounds=10, \n",
    "                  verbose_eval=10, \n",
    "                  show_stdv=True)\n"
   ]
  },
  {
   "cell_type": "code",
   "execution_count": 134,
   "metadata": {},
   "outputs": [
    {
     "data": {
      "text/plain": [
       "220"
      ]
     },
     "execution_count": 134,
     "metadata": {},
     "output_type": "execute_result"
    }
   ],
   "source": [
    "# Get best num_boost_round\n",
    "cv_tuned[cv_tuned['test-rmse-mean'] == cv_tuned['test-rmse-mean'].min()]\n",
    "nrounds = cv_tuned[cv_tuned['test-rmse-mean'] == cv_tuned['test-rmse-mean'].min()].index[0]\n",
    "nrounds"
   ]
  },
  {
   "cell_type": "code",
   "execution_count": 135,
   "metadata": {},
   "outputs": [],
   "source": [
    "# Build Final xgb model using tuned parameters\n",
    "xgb_final = xgb.train(params = best_params,\n",
    "                      num_boost_round = nrounds,\n",
    "                      dtrain = dtrain)"
   ]
  },
  {
   "cell_type": "code",
   "execution_count": 140,
   "metadata": {},
   "outputs": [],
   "source": [
    "xgb_final.save_model(\"xgb_model_final.model\")"
   ]
  },
  {
   "cell_type": "code",
   "execution_count": 137,
   "metadata": {},
   "outputs": [
    {
     "name": "stdout",
     "output_type": "stream",
     "text": [
      "MAE: 127.36859886521071\n",
      "RMSE: 212.80311369253315\n",
      "R^2 Score: 0.9697208634286517\n"
     ]
    }
   ],
   "source": [
    "# Evaluate Final Model Performance Using test set\n",
    "yhat = xgb_final.predict(dtest)\n",
    "print('MAE: ' + str(mean_absolute_error(y_test, yhat)))\n",
    "print('RMSE: '+ str(math.sqrt(mean_squared_error(y_test, yhat))))\n",
    "print('R^2 Score: ' + str(r2_score(y_test, yhat)))\n"
   ]
  },
  {
   "cell_type": "code",
   "execution_count": 170,
   "metadata": {},
   "outputs": [
    {
     "data": {
      "text/plain": [
       "Text(0, 0.5, 'Feature Importance Score')"
      ]
     },
     "execution_count": 170,
     "metadata": {},
     "output_type": "execute_result"
    },
    {
     "data": {
      "image/png": "[encoded data removed]",
      "text/plain": [
       "<Figure size 432x288 with 1 Axes>"
      ]
     },
     "metadata": {
      "needs_background": "light"
     },
     "output_type": "display_data"
    }
   ],
   "source": [
    "# Plot Feature Importance Plot\n",
    "feat_imp = pd.Series(xgb_final.get_fscore()).sort_values(ascending=False)\n",
    "fi_15 = feat_imp[0:10]\n",
    "fi_15.plot(kind='bar', title='Feature Importances')\n",
    "plt.ylabel('Feature Importance Score')"
   ]
  },
  {
   "cell_type": "code",
   "execution_count": 212,
   "metadata": {},
   "outputs": [
    {
     "data": {
      "text/html": [
       "<div>\n",
       "<style scoped>\n",
       "    .dataframe tbody tr th:only-of-type {\n",
       "        vertical-align: middle;\n",
       "    }\n",
       "\n",
       "    .dataframe tbody tr th {\n",
       "        vertical-align: top;\n",
       "    }\n",
       "\n",
       "    .dataframe thead th {\n",
       "        text-align: right;\n",
       "    }\n",
       "</style>\n",
       "<table border=\"1\" class=\"dataframe\">\n",
       "  <thead>\n",
       "    <tr style=\"text-align: right;\">\n",
       "      <th></th>\n",
       "      <th>index</th>\n",
       "      <th>0</th>\n",
       "    </tr>\n",
       "  </thead>\n",
       "  <tbody>\n",
       "    <tr>\n",
       "      <th>0</th>\n",
       "      <td>2</td>\n",
       "      <td>38599</td>\n",
       "    </tr>\n",
       "    <tr>\n",
       "      <th>1</th>\n",
       "      <td>1</td>\n",
       "      <td>23893</td>\n",
       "    </tr>\n",
       "    <tr>\n",
       "      <th>2</th>\n",
       "      <td>0</td>\n",
       "      <td>21807</td>\n",
       "    </tr>\n",
       "    <tr>\n",
       "      <th>3</th>\n",
       "      <td>3</td>\n",
       "      <td>6550</td>\n",
       "    </tr>\n",
       "    <tr>\n",
       "      <th>4</th>\n",
       "      <td>11</td>\n",
       "      <td>6488</td>\n",
       "    </tr>\n",
       "  </tbody>\n",
       "</table>\n",
       "</div>"
      ],
      "text/plain": [
       "   index      0\n",
       "0      2  38599\n",
       "1      1  23893\n",
       "2      0  21807\n",
       "3      3   6550\n",
       "4     11   6488"
      ]
     },
     "execution_count": 212,
     "metadata": {},
     "output_type": "execute_result"
    }
   ],
   "source": [
    "df_fi = pd.DataFrame(pd.Series(xgb_final.get_fscore()).sort_values(ascending = False)).reset_index()\n",
    "df_fi['index'] = df_fi['index'].str.extract(r'(\\d+)').astype(int)\n",
    "df_fi.head()"
   ]
  },
  {
   "cell_type": "code",
   "execution_count": 213,
   "metadata": {},
   "outputs": [
    {
     "data": {
      "text/html": [
       "<div>\n",
       "<style scoped>\n",
       "    .dataframe tbody tr th:only-of-type {\n",
       "        vertical-align: middle;\n",
       "    }\n",
       "\n",
       "    .dataframe tbody tr th {\n",
       "        vertical-align: top;\n",
       "    }\n",
       "\n",
       "    .dataframe thead th {\n",
       "        text-align: right;\n",
       "    }\n",
       "</style>\n",
       "<table border=\"1\" class=\"dataframe\">\n",
       "  <thead>\n",
       "    <tr style=\"text-align: right;\">\n",
       "      <th></th>\n",
       "      <th>F_score</th>\n",
       "      <th>Feature Name</th>\n",
       "    </tr>\n",
       "    <tr>\n",
       "      <th>index</th>\n",
       "      <th></th>\n",
       "      <th></th>\n",
       "    </tr>\n",
       "  </thead>\n",
       "  <tbody>\n",
       "    <tr>\n",
       "      <th>2</th>\n",
       "      <td>38599</td>\n",
       "      <td>remaining_lease</td>\n",
       "    </tr>\n",
       "    <tr>\n",
       "      <th>1</th>\n",
       "      <td>23893</td>\n",
       "      <td>month</td>\n",
       "    </tr>\n",
       "    <tr>\n",
       "      <th>0</th>\n",
       "      <td>21807</td>\n",
       "      <td>floor_area_sqm</td>\n",
       "    </tr>\n",
       "    <tr>\n",
       "      <th>3</th>\n",
       "      <td>6550</td>\n",
       "      <td>year</td>\n",
       "    </tr>\n",
       "    <tr>\n",
       "      <th>11</th>\n",
       "      <td>6488</td>\n",
       "      <td>Restaurant</td>\n",
       "    </tr>\n",
       "    <tr>\n",
       "      <th>4</th>\n",
       "      <td>4192</td>\n",
       "      <td>Bus Stop</td>\n",
       "    </tr>\n",
       "    <tr>\n",
       "      <th>5</th>\n",
       "      <td>4138</td>\n",
       "      <td>Food Court</td>\n",
       "    </tr>\n",
       "    <tr>\n",
       "      <th>70</th>\n",
       "      <td>3879</td>\n",
       "      <td>storey_range_04 TO 06</td>\n",
       "    </tr>\n",
       "    <tr>\n",
       "      <th>71</th>\n",
       "      <td>3567</td>\n",
       "      <td>storey_range_07 TO 09</td>\n",
       "    </tr>\n",
       "    <tr>\n",
       "      <th>72</th>\n",
       "      <td>3301</td>\n",
       "      <td>storey_range_10 TO 12</td>\n",
       "    </tr>\n",
       "    <tr>\n",
       "      <th>69</th>\n",
       "      <td>3198</td>\n",
       "      <td>storey_range_01 TO 03</td>\n",
       "    </tr>\n",
       "    <tr>\n",
       "      <th>13</th>\n",
       "      <td>2688</td>\n",
       "      <td>Supermarket</td>\n",
       "    </tr>\n",
       "    <tr>\n",
       "      <th>7</th>\n",
       "      <td>1911</td>\n",
       "      <td>Gym</td>\n",
       "    </tr>\n",
       "    <tr>\n",
       "      <th>10</th>\n",
       "      <td>1837</td>\n",
       "      <td>Park</td>\n",
       "    </tr>\n",
       "    <tr>\n",
       "      <th>73</th>\n",
       "      <td>1694</td>\n",
       "      <td>storey_range_13 TO 15</td>\n",
       "    </tr>\n",
       "  </tbody>\n",
       "</table>\n",
       "</div>"
      ],
      "text/plain": [
       "       F_score           Feature Name\n",
       "index                                \n",
       "2        38599        remaining_lease\n",
       "1        23893                  month\n",
       "0        21807         floor_area_sqm\n",
       "3         6550                   year\n",
       "11        6488             Restaurant\n",
       "4         4192               Bus Stop\n",
       "5         4138             Food Court\n",
       "70        3879  storey_range_04 TO 06\n",
       "71        3567  storey_range_07 TO 09\n",
       "72        3301  storey_range_10 TO 12\n",
       "69        3198  storey_range_01 TO 03\n",
       "13        2688            Supermarket\n",
       "7         1911                    Gym\n",
       "10        1837                   Park\n",
       "73        1694  storey_range_13 TO 15"
      ]
     },
     "execution_count": 213,
     "metadata": {},
     "output_type": "execute_result"
    }
   ],
   "source": [
    "df_labels = pd.DataFrame(pd.Series(df_final.drop(['price_sqm'], axis =1).columns)).reset_index()\n",
    "df_fi = df_fi.merge(df_labels, how = 'left', on = 'index').set_index(['index'])\n",
    "df_fi.columns = ['F_score', 'Feature Name']\n",
    "df_fi[0:15]"
   ]
  },
  {
   "cell_type": "code",
   "execution_count": 218,
   "metadata": {},
   "outputs": [
    {
     "data": {
      "text/plain": [
       "<matplotlib.axes._subplots.AxesSubplot at 0x5f0f945c48>"
      ]
     },
     "execution_count": 218,
     "metadata": {},
     "output_type": "execute_result"
    },
    {
     "data": {
      "image/png": "[encoded data removed]",
      "text/plain": [
       "<Figure size 432x288 with 1 Axes>"
      ]
     },
     "metadata": {
      "needs_background": "light"
     },
     "output_type": "display_data"
    }
   ],
   "source": [
    "sns.boxplot(x = df_main['Bus Stop'], y = df_main['price_sqm'])"
   ]
  },
  {
   "cell_type": "code",
   "execution_count": 164,
   "metadata": {},
   "outputs": [
    {
     "name": "stdout",
     "output_type": "stream",
     "text": [
      "Help on class Booster in module xgboost.core:\n",
      "\n",
      "class Booster(builtins.object)\n",
      " |  Booster(params=None, cache=(), model_file=None)\n",
      " |  \n",
      " |  A Booster of XGBoost.\n",
      " |  \n",
      " |  Booster is the model of xgboost, that contains low level routines for\n",
      " |  training, prediction and evaluation.\n",
      " |  \n",
      " |  Methods defined here:\n",
      " |  \n",
      " |  __copy__(self)\n",
      " |  \n",
      " |  __deepcopy__(self, _)\n",
      " |  \n",
      " |  __del__(self)\n",
      " |  \n",
      " |  __getstate__(self)\n",
      " |  \n",
      " |  __init__(self, params=None, cache=(), model_file=None)\n",
      " |      Parameters\n",
      " |      ----------\n",
      " |      params : dict\n",
      " |          Parameters for boosters.\n",
      " |      cache : list\n",
      " |          List of cache items.\n",
      " |      model_file : string\n",
      " |          Path to the model file.\n",
      " |  \n",
      " |  __setstate__(self, state)\n",
      " |  \n",
      " |  attr(self, key)\n",
      " |      Get attribute string from the Booster.\n",
      " |      \n",
      " |      Parameters\n",
      " |      ----------\n",
      " |      key : str\n",
      " |          The key to get attribute from.\n",
      " |      \n",
      " |      Returns\n",
      " |      -------\n",
      " |      value : str\n",
      " |          The attribute value of the key, returns None if attribute do not exist.\n",
      " |  \n",
      " |  attributes(self)\n",
      " |      Get attributes stored in the Booster as a dictionary.\n",
      " |      \n",
      " |      Returns\n",
      " |      -------\n",
      " |      result : dictionary of  attribute_name: attribute_value pairs of strings.\n",
      " |          Returns an empty dict if there's no attributes.\n",
      " |  \n",
      " |  boost(self, dtrain, grad, hess)\n",
      " |      Boost the booster for one iteration, with customized gradient\n",
      " |      statistics.  Like :func:`xgboost.core.Booster.update`, this\n",
      " |      function should not be called directly by users.\n",
      " |      \n",
      " |      Parameters\n",
      " |      ----------\n",
      " |      dtrain : DMatrix\n",
      " |          The training DMatrix.\n",
      " |      grad : list\n",
      " |          The first order of gradient.\n",
      " |      hess : list\n",
      " |          The second order of gradient.\n",
      " |  \n",
      " |  copy(self)\n",
      " |      Copy the booster object.\n",
      " |      \n",
      " |      Returns\n",
      " |      -------\n",
      " |      booster: `Booster`\n",
      " |          a copied booster model\n",
      " |  \n",
      " |  dump_model(self, fout, fmap='', with_stats=False, dump_format='text')\n",
      " |      Dump model into a text or JSON file.\n",
      " |      \n",
      " |      Parameters\n",
      " |      ----------\n",
      " |      fout : string\n",
      " |          Output file name.\n",
      " |      fmap : string, optional\n",
      " |          Name of the file containing feature map names.\n",
      " |      with_stats : bool, optional\n",
      " |          Controls whether the split statistics are output.\n",
      " |      dump_format : string, optional\n",
      " |          Format of model dump file. Can be 'text' or 'json'.\n",
      " |  \n",
      " |  eval(self, data, name='eval', iteration=0)\n",
      " |      Evaluate the model on mat.\n",
      " |      \n",
      " |      Parameters\n",
      " |      ----------\n",
      " |      data : DMatrix\n",
      " |          The dmatrix storing the input.\n",
      " |      \n",
      " |      name : str, optional\n",
      " |          The name of the dataset.\n",
      " |      \n",
      " |      iteration : int, optional\n",
      " |          The current iteration number.\n",
      " |      \n",
      " |      Returns\n",
      " |      -------\n",
      " |      result: str\n",
      " |          Evaluation result string.\n",
      " |  \n",
      " |  eval_set(self, evals, iteration=0, feval=None)\n",
      " |      Evaluate a set of data.\n",
      " |      \n",
      " |      Parameters\n",
      " |      ----------\n",
      " |      evals : list of tuples (DMatrix, string)\n",
      " |          List of items to be evaluated.\n",
      " |      iteration : int\n",
      " |          Current iteration.\n",
      " |      feval : function\n",
      " |          Custom evaluation function.\n",
      " |      \n",
      " |      Returns\n",
      " |      -------\n",
      " |      result: str\n",
      " |          Evaluation result string.\n",
      " |  \n",
      " |  get_dump(self, fmap='', with_stats=False, dump_format='text')\n",
      " |      Returns the model dump as a list of strings.\n",
      " |      \n",
      " |      Parameters\n",
      " |      ----------\n",
      " |      fmap : string, optional\n",
      " |          Name of the file containing feature map names.\n",
      " |      with_stats : bool, optional\n",
      " |          Controls whether the split statistics are output.\n",
      " |      dump_format : string, optional\n",
      " |          Format of model dump. Can be 'text' or 'json'.\n",
      " |  \n",
      " |  get_fscore(self, fmap='')\n",
      " |      Get feature importance of each feature.\n",
      " |      \n",
      " |      .. note:: Feature importance is defined only for tree boosters\n",
      " |      \n",
      " |          Feature importance is only defined when the decision tree model is chosen as base\n",
      " |          learner (`booster=gbtree`). It is not defined for other base learner types, such\n",
      " |          as linear learners (`booster=gblinear`).\n",
      " |      \n",
      " |      .. note:: Zero-importance features will not be included\n",
      " |      \n",
      " |         Keep in mind that this function does not include zero-importance feature, i.e.\n",
      " |         those features that have not been used in any split conditions.\n",
      " |      \n",
      " |      Parameters\n",
      " |      ----------\n",
      " |      fmap: str (optional)\n",
      " |         The name of feature map file\n",
      " |  \n",
      " |  get_score(self, fmap='', importance_type='weight')\n",
      " |      Get feature importance of each feature.\n",
      " |      Importance type can be defined as:\n",
      " |      \n",
      " |      * 'weight': the number of times a feature is used to split the data across all trees.\n",
      " |      * 'gain': the average gain across all splits the feature is used in.\n",
      " |      * 'cover': the average coverage across all splits the feature is used in.\n",
      " |      * 'total_gain': the total gain across all splits the feature is used in.\n",
      " |      * 'total_cover': the total coverage across all splits the feature is used in.\n",
      " |      \n",
      " |      .. note:: Feature importance is defined only for tree boosters\n",
      " |      \n",
      " |          Feature importance is only defined when the decision tree model is chosen as base\n",
      " |          learner (`booster=gbtree`). It is not defined for other base learner types, such\n",
      " |          as linear learners (`booster=gblinear`).\n",
      " |      \n",
      " |      Parameters\n",
      " |      ----------\n",
      " |      fmap: str (optional)\n",
      " |         The name of feature map file.\n",
      " |      importance_type: str, default 'weight'\n",
      " |          One of the importance types defined above.\n",
      " |  \n",
      " |  get_split_value_histogram(self, feature, fmap='', bins=None, as_pandas=True)\n",
      " |      Get split value histogram of a feature\n",
      " |      \n",
      " |      Parameters\n",
      " |      ----------\n",
      " |      feature: str\n",
      " |          The name of the feature.\n",
      " |      fmap: str (optional)\n",
      " |          The name of feature map file.\n",
      " |      bin: int, default None\n",
      " |          The maximum number of bins.\n",
      " |          Number of bins equals number of unique split values n_unique,\n",
      " |          if bins == None or bins > n_unique.\n",
      " |      as_pandas: bool, default True\n",
      " |          Return pd.DataFrame when pandas is installed.\n",
      " |          If False or pandas is not installed, return numpy ndarray.\n",
      " |      \n",
      " |      Returns\n",
      " |      -------\n",
      " |      a histogram of used splitting values for the specified feature\n",
      " |      either as numpy array or pandas DataFrame.\n",
      " |  \n",
      " |  load_model(self, fname)\n",
      " |      Load the model from a file.\n",
      " |      \n",
      " |      The model is loaded from an XGBoost internal binary format which is\n",
      " |      universal among the various XGBoost interfaces. Auxiliary attributes of\n",
      " |      the Python Booster object (such as feature_names) will not be loaded.\n",
      " |      To preserve all attributes, pickle the Booster object.\n",
      " |      \n",
      " |      Parameters\n",
      " |      ----------\n",
      " |      fname : string or a memory buffer\n",
      " |          Input file name or memory buffer(see also save_raw)\n",
      " |  \n",
      " |  load_rabit_checkpoint(self)\n",
      " |      Initialize the model by load from rabit checkpoint.\n",
      " |      \n",
      " |      Returns\n",
      " |      -------\n",
      " |      version: integer\n",
      " |          The version number of the model.\n",
      " |  \n",
      " |  predict(self, data, output_margin=False, ntree_limit=0, pred_leaf=False, pred_contribs=False, approx_contribs=False, pred_interactions=False, validate_features=True)\n",
      " |      Predict with data.\n",
      " |      \n",
      " |      .. note:: This function is not thread safe.\n",
      " |      \n",
      " |        For each booster object, predict can only be called from one thread.\n",
      " |        If you want to run prediction using multiple thread, call ``bst.copy()`` to make copies\n",
      " |        of model object and then call ``predict()``.\n",
      " |      \n",
      " |      .. note:: Using ``predict()`` with DART booster\n",
      " |      \n",
      " |        If the booster object is DART type, ``predict()`` will perform dropouts, i.e. only\n",
      " |        some of the trees will be evaluated. This will produce incorrect results if ``data`` is\n",
      " |        not the training data. To obtain correct results on test sets, set ``ntree_limit`` to\n",
      " |        a nonzero value, e.g.\n",
      " |      \n",
      " |        .. code-block:: python\n",
      " |      \n",
      " |          preds = bst.predict(dtest, ntree_limit=num_round)\n",
      " |      \n",
      " |      Parameters\n",
      " |      ----------\n",
      " |      data : DMatrix\n",
      " |          The dmatrix storing the input.\n",
      " |      \n",
      " |      output_margin : bool\n",
      " |          Whether to output the raw untransformed margin value.\n",
      " |      \n",
      " |      ntree_limit : int\n",
      " |          Limit number of trees in the prediction; defaults to 0 (use all trees).\n",
      " |      \n",
      " |      pred_leaf : bool\n",
      " |          When this option is on, the output will be a matrix of (nsample, ntrees)\n",
      " |          with each record indicating the predicted leaf index of each sample in each tree.\n",
      " |          Note that the leaf index of a tree is unique per tree, so you may find leaf 1\n",
      " |          in both tree 1 and tree 0.\n",
      " |      \n",
      " |      pred_contribs : bool\n",
      " |          When this is True the output will be a matrix of size (nsample, nfeats + 1)\n",
      " |          with each record indicating the feature contributions (SHAP values) for that\n",
      " |          prediction. The sum of all feature contributions is equal to the raw untransformed\n",
      " |          margin value of the prediction. Note the final column is the bias term.\n",
      " |      \n",
      " |      approx_contribs : bool\n",
      " |          Approximate the contributions of each feature\n",
      " |      \n",
      " |      pred_interactions : bool\n",
      " |          When this is True the output will be a matrix of size (nsample, nfeats + 1, nfeats + 1)\n",
      " |          indicating the SHAP interaction values for each pair of features. The sum of each\n",
      " |          row (or column) of the interaction values equals the corresponding SHAP value (from\n",
      " |          pred_contribs), and the sum of the entire matrix equals the raw untransformed margin\n",
      " |          value of the prediction. Note the last row and column correspond to the bias term.\n",
      " |      \n",
      " |      validate_features : bool\n",
      " |          When this is True, validate that the Booster's and data's feature_names are identical.\n",
      " |          Otherwise, it is assumed that the feature_names are the same.\n",
      " |      \n",
      " |      Returns\n",
      " |      -------\n",
      " |      prediction : numpy array\n",
      " |  \n",
      " |  save_model(self, fname)\n",
      " |      Save the model to a file.\n",
      " |      \n",
      " |      The model is saved in an XGBoost internal binary format which is\n",
      " |      universal among the various XGBoost interfaces. Auxiliary attributes of\n",
      " |      the Python Booster object (such as feature_names) will not be saved.\n",
      " |      To preserve all attributes, pickle the Booster object.\n",
      " |      \n",
      " |      Parameters\n",
      " |      ----------\n",
      " |      fname : string\n",
      " |          Output file name\n",
      " |  \n",
      " |  save_rabit_checkpoint(self)\n",
      " |      Save the current booster to rabit checkpoint.\n",
      " |  \n",
      " |  save_raw(self)\n",
      " |      Save the model to a in memory buffer representation\n",
      " |      \n",
      " |      Returns\n",
      " |      -------\n",
      " |      a in memory buffer representation of the model\n",
      " |  \n",
      " |  set_attr(self, **kwargs)\n",
      " |      Set the attribute of the Booster.\n",
      " |      \n",
      " |      Parameters\n",
      " |      ----------\n",
      " |      **kwargs\n",
      " |          The attributes to set. Setting a value to None deletes an attribute.\n",
      " |  \n",
      " |  set_param(self, params, value=None)\n",
      " |      Set parameters into the Booster.\n",
      " |      \n",
      " |      Parameters\n",
      " |      ----------\n",
      " |      params: dict/list/str\n",
      " |         list of key,value pairs, dict of key to value or simply str key\n",
      " |      value: optional\n",
      " |         value of the specified parameter, when params is str key\n",
      " |  \n",
      " |  trees_to_dataframe(self, fmap='')\n",
      " |      Parse a boosted tree model text dump into a pandas DataFrame structure.\n",
      " |      \n",
      " |      This feature is only defined when the decision tree model is chosen as base\n",
      " |      learner (`booster in {gbtree, dart}`). It is not defined for other base learner\n",
      " |      types, such as linear learners (`booster=gblinear`).\n",
      " |      \n",
      " |      Parameters\n",
      " |      ----------\n",
      " |      fmap: str (optional)\n",
      " |         The name of feature map file.\n",
      " |  \n",
      " |  update(self, dtrain, iteration, fobj=None)\n",
      " |      Update for one iteration, with objective function calculated\n",
      " |      internally.  This function should not be called directly by users.\n",
      " |      \n",
      " |      Parameters\n",
      " |      ----------\n",
      " |      dtrain : DMatrix\n",
      " |          Training data.\n",
      " |      iteration : int\n",
      " |          Current iteration number.\n",
      " |      fobj : function\n",
      " |          Customized objective function.\n",
      " |  \n",
      " |  ----------------------------------------------------------------------\n",
      " |  Data descriptors defined here:\n",
      " |  \n",
      " |  __dict__\n",
      " |      dictionary for instance variables (if defined)\n",
      " |  \n",
      " |  __weakref__\n",
      " |      list of weak references to the object (if defined)\n",
      " |  \n",
      " |  ----------------------------------------------------------------------\n",
      " |  Data and other attributes defined here:\n",
      " |  \n",
      " |  feature_names = None\n",
      "\n"
     ]
    }
   ],
   "source": [
    "help(xgb.Booster)"
   ]
  },
  {
   "cell_type": "code",
   "execution_count": null,
   "metadata": {},
   "outputs": [],
   "source": []
  }
 ],
 "metadata": {
  "kernelspec": {
   "display_name": "Python 3",
   "language": "python",
   "name": "python3"
  },
  "language_info": {
   "codemirror_mode": {
    "name": "ipython",
    "version": 3
   },
   "file_extension": ".py",
   "mimetype": "text/x-python",
   "name": "python",
   "nbconvert_exporter": "python",
   "pygments_lexer": "ipython3",
   "version": "3.7.4"
  }
 },
 "nbformat": 4,
 "nbformat_minor": 1
}
