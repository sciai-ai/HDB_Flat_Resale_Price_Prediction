{
 "cells": [
  {
   "cell_type": "markdown",
   "metadata": {},
   "source": [
    "<h1><center>Resale Price Prediction of HDB Resale Flats in Singapore</center></h1>\n",
    "<h3 style=\"margin:0\"><center>Lee Gang</center></h3>\n",
    "<h3 style=\"margin:0\"><center>28 February 2020</center></h3>"
   ]
  },
  {
   "cell_type": "markdown",
   "metadata": {},
   "source": [
    "## Executive Summary"
   ]
  },
  {
   "cell_type": "markdown",
   "metadata": {},
   "source": [
    "Placeholder for executive summary of report."
   ]
  },
  {
   "cell_type": "markdown",
   "metadata": {},
   "source": [
    "## Table of Contents"
   ]
  },
  {
   "cell_type": "markdown",
   "metadata": {},
   "source": [
    "1. [Introduction](#introduction)\n",
    "2. [Methodology](#methodology)\n",
    "3. [Results](#results)\n",
    "4. [Discussion](#discussion)\n",
    "5. [Conclusion](#conclusion)\n",
    "6. [References](#references)"
   ]
  },
  {
   "cell_type": "markdown",
   "metadata": {},
   "source": [
    "## 1. Introduction <a name=\"introduction\"></a>"
   ]
  },
  {
   "cell_type": "markdown",
   "metadata": {},
   "source": [
    "### 1.1 Business Problem"
   ]
  },
  {
   "cell_type": "markdown",
   "metadata": {},
   "source": [
    "Property valuations are usually costly and take time to prepare. Buyers and sellers of properties generally resort to comparing recent transaction prices of nearby and similar properties to estimate the property value. However, there are several limitations to this approach. Firstly, there might be limited transactions within the nearby vicinity. Secondly, the evaluation of similarity between properties is highly subjective, with a wide range of factors that might contribute to the final transaction price of a particular property.\n",
    "\n",
    "In the context of Singapore, a property valuation report is required and can only be requested after an Option To Purchase (OTP) is granted by the seller of a HDB unit to the buyer. The amount of loan that the buyer can take up will depend on the property value as stated in the valuation report, or the offer price stated in the OTP, whichever lower. A buyer may potentially face the situation where the offer price is higher than the valuation price, therefore requiring an upfront additional cash payment for the difference in value. If the buyer decides to not exercise the OTP, he/she will be forfeiting the deposit paid as part of the OTP. As such, the buyer will face significant financial risk if the assessment of the property price is not conducted diligently. On the other hand, a common challenge faced by sellers are the price setting of properties. Overpricing and underpricing properties will often result in loss of profit or prolonged holding of the property.\n",
    "\n",
    "As such, this project aims to develop a predictive model to provide both sellers and buyers a quick and easy way to estimate a property's value without spending a single cent. However, as the focus of this project is to develop a predictive model with high accuracy, we will not be delving deep into the effects of various predictors on the estimated price."
   ]
  },
  {
   "cell_type": "markdown",
   "metadata": {},
   "source": [
    "### 1.2 Scope and Background"
   ]
  },
  {
   "cell_type": "markdown",
   "metadata": {},
   "source": [
    "Singapore's residential property market can be categorized into the public housing market, and the private housing market. The private housing market generally consist of condominiums or landed property developed by private property developers, and does not have any restrictions or requirements in regards to the buyers' citizenship. In contrast, public housing in Singapore is managed by the Housing and Development Board (HDB), and usually are on a 99-years leasehold basis. These high-rise apartments or flats are generally located within housing estates, which are self-contained satellite towns with schools, supermarkets and other facilities. These residential properties accounts for over 80% of the Singapore Resident population's housing needs<sup>[[1](#Ref1)]</sup>, and are called HDB Flats. However, HDB flats and are only available for purchase to Singaporean Citizens and Permanent Residents. \n",
    "\n",
    "Strictly speaking, only Singaporean Citizens are allowed to purchase new HDB flats. The price of the new HDB flat is set by the government agency and the entire process from application to occupation takes around two to four years. Singaporean Permanent Residents and Singaporean Citizens who do not want to wait for such long periods of time will have to purchase HDB flats from the resale market, where property prices are decided by various market forces.\n",
    "\n",
    "In view of the relative high transaction volume of HDB resale flats and free market pricing, we will focus on building a prediction model to estimate the transaction price for HDB Resale Flats for this project."
   ]
  },
  {
   "cell_type": "markdown",
   "metadata": {},
   "source": [
    "## 2. Methodology <a name=\"methodology\"></a>"
   ]
  },
  {
   "cell_type": "markdown",
   "metadata": {},
   "source": [
    "### 2.1 Data Sources and Assumptions"
   ]
  },
  {
   "cell_type": "markdown",
   "metadata": {},
   "source": [
    "All transactions data on HDB Resale Flats are made available publicly at **Data.gov.sg** through their API every month<sup>[[2](#Ref2)]</sup>. The transactions exclude resale transactions that may not reflect the full market price such as resale between relatives and resale of part shares. We will only utilize transaction data from 2017 to 2020 due to a different assumption and data classification methods adopted by HDB prior to 2017. The HDB Resale Flats transaction data contains information on the address, floor area, transaction price, transaction registration date and other information regarding the property such as property type and storeys.\n",
    "\n",
    "Property price are usually also affected by the venues and facilities available within the vicinity such as supermarkets, shopping malls, train station etc. In order to expand our dataset to include these information, we geocoded the address for each of the transacted properties to extract their map coordinates and leveraged on [**Foursquare's Places API**](https://developer.foursquare.com/) to retrieve all nearby venues within a 500m radius of the property. \n",
    "\n",
    "The nearby venues extracted are then categorized into major categories that might contribute to the property transacted price such as *Train Stations*, *Bus Stops*, *Restaurants*, *Schools*, *Park and Gardens*, *Supermarkets*, *Gyms*, *Theaters*, *Food Courts*, *Museums* and *Shopping Malls*. The number of venues for each of these categories were then merged with the transacted property dataset.\n",
    "\n",
    "To remove the effect of the property's *floor area* on the *resale price*, we transformed the *resale price* to *price per square meter*, which will be used as the target variable/ dependent variable for our analysis.\n"
   ]
  },
  {
   "cell_type": "markdown",
   "metadata": {},
   "source": [
    "### 2.2 Exploratory Data Analysis and Feature Selection"
   ]
  },
  {
   "cell_type": "markdown",
   "metadata": {},
   "source": [
    "Exploratory data analysis was performed on the combined dataset. Independent variables with high colinearity and near-zero variance are further investigated and dropped from the dataset if the variables are deemed to introduce more noise than information.\n",
    "\n",
    "Density-Based Spatial Clustering of Applications with Noise (DBSCAN) is then used for outlier detection among the dataset. Outliers were investigated individually and dropped from the dataset.\n",
    "\n",
    "The dataset is then randomly split into a training set (75%) and testing set (25%) for model development and evaluation."
   ]
  },
  {
   "cell_type": "markdown",
   "metadata": {},
   "source": [
    "### 2.3 Model Development and Evaluation"
   ]
  },
  {
   "cell_type": "markdown",
   "metadata": {},
   "source": [
    "Two different models were developed using **Multivariate Linear Regression** and **Extreme Gradient Boosted Trees (XGBoost)**. **Multivariate Linear Regression** is used because it is a common technique employed by real estate appraisers in determining the various adjustment factors<sup>[[3](#Ref3)]</sup>. It is also easily interpretable and the various predictors' effect on the resale price can be easily quantified. **XGBoost** is used as it is one of the top performing algorithms in many machine learning competitions and is efficient considered its complexity. However, interpreting the relatonship between predictors and the target variable in **XGBoost** models can be challenging.\n",
    "\n",
    "For the **XGBoost** model, a randomized grid search with 5-fold cross-validation is used to tuned the hyper-parameters *max_depth*, *min_child_weight*, *gamma*, *subsample*, *ncol_subsample* and *learning_rate*. The best parameters selected is then used to select the best *num_boost_rounds* via 5-fold cross-validation, which is then used to build the final **XGBoost** model.\n",
    "\n",
    "Both models are evaluated using the testing set, and their **mean absolute error (MAE)**, **root mean squared error (RMSE)** and **R<sub>2</sub> scores** are computed and compared. The model with the smallest error is then selected."
   ]
  },
  {
   "cell_type": "markdown",
   "metadata": {},
   "source": [
    "## 3. Results <a name=\"results\"></a>"
   ]
  },
  {
   "cell_type": "markdown",
   "metadata": {},
   "source": [
    "## 4. Discussion <a name=\"discussion\"></a>"
   ]
  },
  {
   "cell_type": "markdown",
   "metadata": {},
   "source": [
    "## 5. Conclusion <a name=\"conclusion\"></a>"
   ]
  },
  {
   "cell_type": "markdown",
   "metadata": {},
   "source": [
    "## 6. References <a name=\"references\"></a>"
   ]
  },
  {
   "cell_type": "markdown",
   "metadata": {},
   "source": [
    "[1] Singapore Housing Development Board (2020). *HDB Website*. Retrieved February 28, 2020, from https://www.hdb.gov.sg/cs/infoweb/about-us. <a name=\"Ref1\"></a>"
   ]
  },
  {
   "cell_type": "markdown",
   "metadata": {},
   "source": [
    "[2] GovTech (2020). *Data.gov.sg Website*. Retrieved February 28, 2020 from https://data.gov.sg/group/infrastructure. <a name=\"Ref2\"></a>"
   ]
  },
  {
   "cell_type": "markdown",
   "metadata": {},
   "source": [
    "[3] J.A.Swartz (2013). *Appraising with Regression*. Retrieved February 28, 2020 from http://www.workingre.com/appraising-regression/. <a name=\"Ref3\"></a>"
   ]
  },
  {
   "cell_type": "markdown",
   "metadata": {},
   "source": []
  }
 ],
 "metadata": {
  "kernelspec": {
   "display_name": "Python 3",
   "language": "python",
   "name": "python3"
  },
  "language_info": {
   "codemirror_mode": {
    "name": "ipython",
    "version": 3
   },
   "file_extension": ".py",
   "mimetype": "text/x-python",
   "name": "python",
   "nbconvert_exporter": "python",
   "pygments_lexer": "ipython3",
   "version": "3.7.4"
  }
 },
 "nbformat": 4,
 "nbformat_minor": 4
}
